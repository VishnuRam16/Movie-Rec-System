{
 "cells": [
  {
   "cell_type": "code",
   "execution_count": null,
   "id": "f692e029",
   "metadata": {},
   "outputs": [],
   "source": []
  },
  {
   "cell_type": "code",
   "execution_count": 1,
   "id": "b3fa6201",
   "metadata": {},
   "outputs": [
    {
     "name": "stderr",
     "output_type": "stream",
     "text": [
      "/Users/vrm6007/opt/anaconda3/lib/python3.9/site-packages/scipy/__init__.py:146: UserWarning: A NumPy version >=1.16.5 and <1.23.0 is required for this version of SciPy (detected version 1.26.2\n",
      "  warnings.warn(f\"A NumPy version >={np_minversion} and <{np_maxversion}\"\n"
     ]
    }
   ],
   "source": [
    "import pandas as pd\n",
    "import matplotlib.pyplot as plt\n",
    "import seaborn as sns\n",
    "# Load datasets"
   ]
  },
  {
   "cell_type": "code",
   "execution_count": 2,
   "id": "f25f3105",
   "metadata": {},
   "outputs": [
    {
     "data": {
      "text/html": [
       "<div>\n",
       "<style scoped>\n",
       "    .dataframe tbody tr th:only-of-type {\n",
       "        vertical-align: middle;\n",
       "    }\n",
       "\n",
       "    .dataframe tbody tr th {\n",
       "        vertical-align: top;\n",
       "    }\n",
       "\n",
       "    .dataframe thead th {\n",
       "        text-align: right;\n",
       "    }\n",
       "</style>\n",
       "<table border=\"1\" class=\"dataframe\">\n",
       "  <thead>\n",
       "    <tr style=\"text-align: right;\">\n",
       "      <th></th>\n",
       "      <th>userId</th>\n",
       "      <th>movieId</th>\n",
       "      <th>tag</th>\n",
       "      <th>timestamp</th>\n",
       "    </tr>\n",
       "  </thead>\n",
       "  <tbody>\n",
       "    <tr>\n",
       "      <th>0</th>\n",
       "      <td>18</td>\n",
       "      <td>4141</td>\n",
       "      <td>Mark Waters</td>\n",
       "      <td>2009-04-24 18:19:40</td>\n",
       "    </tr>\n",
       "    <tr>\n",
       "      <th>1</th>\n",
       "      <td>65</td>\n",
       "      <td>208</td>\n",
       "      <td>dark hero</td>\n",
       "      <td>2013-05-10 01:41:18</td>\n",
       "    </tr>\n",
       "    <tr>\n",
       "      <th>2</th>\n",
       "      <td>65</td>\n",
       "      <td>353</td>\n",
       "      <td>dark hero</td>\n",
       "      <td>2013-05-10 01:41:19</td>\n",
       "    </tr>\n",
       "    <tr>\n",
       "      <th>3</th>\n",
       "      <td>65</td>\n",
       "      <td>521</td>\n",
       "      <td>noir thriller</td>\n",
       "      <td>2013-05-10 01:39:43</td>\n",
       "    </tr>\n",
       "    <tr>\n",
       "      <th>4</th>\n",
       "      <td>65</td>\n",
       "      <td>592</td>\n",
       "      <td>dark hero</td>\n",
       "      <td>2013-05-10 01:41:18</td>\n",
       "    </tr>\n",
       "  </tbody>\n",
       "</table>\n",
       "</div>"
      ],
      "text/plain": [
       "   userId  movieId            tag            timestamp\n",
       "0      18     4141    Mark Waters  2009-04-24 18:19:40\n",
       "1      65      208      dark hero  2013-05-10 01:41:18\n",
       "2      65      353      dark hero  2013-05-10 01:41:19\n",
       "3      65      521  noir thriller  2013-05-10 01:39:43\n",
       "4      65      592      dark hero  2013-05-10 01:41:18"
      ]
     },
     "execution_count": 2,
     "metadata": {},
     "output_type": "execute_result"
    }
   ],
   "source": [
    "tag_df = pd.read_csv(\"Tag.csv\")\n",
    "tag_df.head()"
   ]
  },
  {
   "cell_type": "code",
   "execution_count": 3,
   "id": "475747ea",
   "metadata": {},
   "outputs": [
    {
     "data": {
      "text/plain": [
       "(465564, 4)"
      ]
     },
     "execution_count": 3,
     "metadata": {},
     "output_type": "execute_result"
    }
   ],
   "source": [
    "tag_df.shape"
   ]
  },
  {
   "cell_type": "code",
   "execution_count": 4,
   "id": "e504d98d",
   "metadata": {},
   "outputs": [
    {
     "data": {
      "text/plain": [
       "userId        0\n",
       "movieId       0\n",
       "tag          16\n",
       "timestamp     0\n",
       "dtype: int64"
      ]
     },
     "execution_count": 4,
     "metadata": {},
     "output_type": "execute_result"
    }
   ],
   "source": [
    "tag_df.isnull().sum()"
   ]
  },
  {
   "cell_type": "code",
   "execution_count": 5,
   "id": "a3297bab",
   "metadata": {},
   "outputs": [],
   "source": [
    "# Handling Missing Values\n",
    "#tag_df.fillna(value='', inplace=True)\n",
    "\n",
    "tag_df.rename(columns={'tag':'user_tag'}, inplace=True)  #Changed the column name from tag to user_tag since it is a user given tag and shouldnt be confused with the genome tag columnin different dataset \n",
    "\n",
    "# Timestamp Handling\n",
    "tag_df['timestamp'] = pd.to_datetime(tag_df['timestamp'])\n",
    "tag_df['year'] = tag_df['timestamp'].dt.year\n",
    "tag_df['month'] = tag_df['timestamp'].dt.month\n",
    "\n",
    "# Tag Standardization\n",
    "\n",
    "tag_df['user_tag'] = tag_df['user_tag'].str.lower()"
   ]
  },
  {
   "cell_type": "code",
   "execution_count": 6,
   "id": "0e3cfbfd",
   "metadata": {},
   "outputs": [
    {
     "name": "stdout",
     "output_type": "stream",
     "text": [
      "   userId  movieId       user_tag           timestamp  year  month\n",
      "0      18     4141    mark waters 2009-04-24 18:19:40  2009      4\n",
      "1      65      208      dark hero 2013-05-10 01:41:18  2013      5\n",
      "2      65      353      dark hero 2013-05-10 01:41:19  2013      5\n",
      "3      65      521  noir thriller 2013-05-10 01:39:43  2013      5\n",
      "4      65      592      dark hero 2013-05-10 01:41:18  2013      5\n"
     ]
    },
    {
     "data": {
      "text/plain": [
       "(465564, 6)"
      ]
     },
     "execution_count": 6,
     "metadata": {},
     "output_type": "execute_result"
    }
   ],
   "source": [
    "print(tag_df.head())\n",
    "tag_df.shape"
   ]
  },
  {
   "cell_type": "code",
   "execution_count": 7,
   "id": "a9e3789c",
   "metadata": {},
   "outputs": [
    {
     "name": "stdout",
     "output_type": "stream",
     "text": [
      "<class 'pandas.core.frame.DataFrame'>\n",
      "RangeIndex: 465564 entries, 0 to 465563\n",
      "Data columns (total 6 columns):\n",
      " #   Column     Non-Null Count   Dtype         \n",
      "---  ------     --------------   -----         \n",
      " 0   userId     465564 non-null  int64         \n",
      " 1   movieId    465564 non-null  int64         \n",
      " 2   user_tag   465548 non-null  object        \n",
      " 3   timestamp  465564 non-null  datetime64[ns]\n",
      " 4   year       465564 non-null  int64         \n",
      " 5   month      465564 non-null  int64         \n",
      "dtypes: datetime64[ns](1), int64(4), object(1)\n",
      "memory usage: 21.3+ MB\n"
     ]
    }
   ],
   "source": [
    "tag_df.info()"
   ]
  },
  {
   "cell_type": "code",
   "execution_count": 8,
   "id": "d5fd0af9",
   "metadata": {},
   "outputs": [
    {
     "data": {
      "text/plain": [
       "sci-fi                      3576\n",
       "based on a book             3307\n",
       "atmospheric                 3169\n",
       "comedy                      3078\n",
       "action                      3068\n",
       "                            ... \n",
       "touchstone                     1\n",
       "pg:some brief language         1\n",
       "playwright:aaron sorkin        1\n",
       "screenwriter:neil labute       1\n",
       "topless scene                  1\n",
       "Name: user_tag, Length: 35172, dtype: int64"
      ]
     },
     "execution_count": 8,
     "metadata": {},
     "output_type": "execute_result"
    }
   ],
   "source": [
    "tag_df.user_tag.value_counts()"
   ]
  },
  {
   "cell_type": "code",
   "execution_count": 9,
   "id": "f02fdeaa",
   "metadata": {},
   "outputs": [
    {
     "data": {
      "text/plain": [
       "sci-fi              3576\n",
       "based on a book     3307\n",
       "atmospheric         3169\n",
       "comedy              3078\n",
       "action              3068\n",
       "nudity (topless)    2646\n",
       "surreal             2528\n",
       "twist ending        2367\n",
       "bd-r                2334\n",
       "funny               2253\n",
       "Name: user_tag, dtype: int64"
      ]
     },
     "execution_count": 9,
     "metadata": {},
     "output_type": "execute_result"
    }
   ],
   "source": [
    "#Top 10 user generated tags\n",
    "tag_df.user_tag.value_counts().head(10)\n"
   ]
  },
  {
   "cell_type": "code",
   "execution_count": 10,
   "id": "9f8637db",
   "metadata": {},
   "outputs": [
    {
     "data": {
      "image/png": "[encoded data removed]",
      "text/plain": [
       "<Figure size 720x432 with 1 Axes>"
      ]
     },
     "metadata": {
      "needs_background": "light"
     },
     "output_type": "display_data"
    }
   ],
   "source": [
    "# Most Common user generated tags \n",
    "common_tags = tag_df['user_tag'].value_counts().head(10) \n",
    "plt.figure(figsize=(10,6))\n",
    "sns.barplot(x=common_tags.values,y=common_tags.index, orient='h')\n",
    "plt.title('Top 10 User_Genrated Tags')\n",
    "plt.xlabel(\"Count\")\n",
    "plt.ylabel(\"User Generated Tag \")\n",
    "plt.show()"
   ]
  },
  {
   "cell_type": "code",
   "execution_count": 11,
   "id": "f1f8c7e0",
   "metadata": {},
   "outputs": [
    {
     "data": {
      "text/html": [
       "<div>\n",
       "<style scoped>\n",
       "    .dataframe tbody tr th:only-of-type {\n",
       "        vertical-align: middle;\n",
       "    }\n",
       "\n",
       "    .dataframe tbody tr th {\n",
       "        vertical-align: top;\n",
       "    }\n",
       "\n",
       "    .dataframe thead th {\n",
       "        text-align: right;\n",
       "    }\n",
       "</style>\n",
       "<table border=\"1\" class=\"dataframe\">\n",
       "  <thead>\n",
       "    <tr style=\"text-align: right;\">\n",
       "      <th></th>\n",
       "      <th>userId</th>\n",
       "      <th>movieId</th>\n",
       "      <th>rating</th>\n",
       "      <th>timestamp</th>\n",
       "    </tr>\n",
       "  </thead>\n",
       "  <tbody>\n",
       "    <tr>\n",
       "      <th>0</th>\n",
       "      <td>1</td>\n",
       "      <td>2</td>\n",
       "      <td>3.5</td>\n",
       "      <td>2005-04-02 23:53:47</td>\n",
       "    </tr>\n",
       "    <tr>\n",
       "      <th>1</th>\n",
       "      <td>1</td>\n",
       "      <td>29</td>\n",
       "      <td>3.5</td>\n",
       "      <td>2005-04-02 23:31:16</td>\n",
       "    </tr>\n",
       "    <tr>\n",
       "      <th>2</th>\n",
       "      <td>1</td>\n",
       "      <td>32</td>\n",
       "      <td>3.5</td>\n",
       "      <td>2005-04-02 23:33:39</td>\n",
       "    </tr>\n",
       "    <tr>\n",
       "      <th>3</th>\n",
       "      <td>1</td>\n",
       "      <td>47</td>\n",
       "      <td>3.5</td>\n",
       "      <td>2005-04-02 23:32:07</td>\n",
       "    </tr>\n",
       "    <tr>\n",
       "      <th>4</th>\n",
       "      <td>1</td>\n",
       "      <td>50</td>\n",
       "      <td>3.5</td>\n",
       "      <td>2005-04-02 23:29:40</td>\n",
       "    </tr>\n",
       "  </tbody>\n",
       "</table>\n",
       "</div>"
      ],
      "text/plain": [
       "   userId  movieId  rating            timestamp\n",
       "0       1        2     3.5  2005-04-02 23:53:47\n",
       "1       1       29     3.5  2005-04-02 23:31:16\n",
       "2       1       32     3.5  2005-04-02 23:33:39\n",
       "3       1       47     3.5  2005-04-02 23:32:07\n",
       "4       1       50     3.5  2005-04-02 23:29:40"
      ]
     },
     "execution_count": 11,
     "metadata": {},
     "output_type": "execute_result"
    }
   ],
   "source": [
    "rating_df = pd.read_csv(\"Rating.csv\")\n",
    "rating_df.head()"
   ]
  },
  {
   "cell_type": "code",
   "execution_count": 12,
   "id": "41513598",
   "metadata": {},
   "outputs": [
    {
     "data": {
      "text/plain": [
       "(20000263, 4)"
      ]
     },
     "execution_count": 12,
     "metadata": {},
     "output_type": "execute_result"
    }
   ],
   "source": [
    "rating_df.shape"
   ]
  },
  {
   "cell_type": "code",
   "execution_count": 13,
   "id": "91ef58d5",
   "metadata": {},
   "outputs": [
    {
     "data": {
      "text/plain": [
       "userId       0\n",
       "movieId      0\n",
       "rating       0\n",
       "timestamp    0\n",
       "dtype: int64"
      ]
     },
     "execution_count": 13,
     "metadata": {},
     "output_type": "execute_result"
    }
   ],
   "source": [
    "rating_df.isnull().sum()"
   ]
  },
  {
   "cell_type": "code",
   "execution_count": 14,
   "id": "9cad6f53",
   "metadata": {},
   "outputs": [],
   "source": [
    "# Timestamp Handling\n",
    "rating_df['timestamp'] = pd.to_datetime(rating_df['timestamp'])\n",
    "rating_df['year'] = rating_df['timestamp'].dt.year\n",
    "rating_df['month'] = rating_df['timestamp'].dt.month\n"
   ]
  },
  {
   "cell_type": "code",
   "execution_count": 15,
   "id": "c9bfb7f6",
   "metadata": {},
   "outputs": [
    {
     "name": "stdout",
     "output_type": "stream",
     "text": [
      "<class 'pandas.core.frame.DataFrame'>\n",
      "RangeIndex: 20000263 entries, 0 to 20000262\n",
      "Data columns (total 6 columns):\n",
      " #   Column     Dtype         \n",
      "---  ------     -----         \n",
      " 0   userId     int64         \n",
      " 1   movieId    int64         \n",
      " 2   rating     float64       \n",
      " 3   timestamp  datetime64[ns]\n",
      " 4   year       int64         \n",
      " 5   month      int64         \n",
      "dtypes: datetime64[ns](1), float64(1), int64(4)\n",
      "memory usage: 915.5 MB\n"
     ]
    }
   ],
   "source": [
    "rating_df.info()"
   ]
  },
  {
   "cell_type": "code",
   "execution_count": 16,
   "id": "10fde513",
   "metadata": {},
   "outputs": [
    {
     "name": "stdout",
     "output_type": "stream",
     "text": [
      "   userId  movieId  rating           timestamp  year  month\n",
      "0       1        2     3.5 2005-04-02 23:53:47  2005      4\n",
      "1       1       29     3.5 2005-04-02 23:31:16  2005      4\n",
      "2       1       32     3.5 2005-04-02 23:33:39  2005      4\n",
      "3       1       47     3.5 2005-04-02 23:32:07  2005      4\n",
      "4       1       50     3.5 2005-04-02 23:29:40  2005      4\n"
     ]
    },
    {
     "data": {
      "text/plain": [
       "(20000263, 6)"
      ]
     },
     "execution_count": 16,
     "metadata": {},
     "output_type": "execute_result"
    }
   ],
   "source": [
    "print(rating_df.head())\n",
    "rating_df.shape"
   ]
  },
  {
   "cell_type": "code",
   "execution_count": 17,
   "id": "b2116f22",
   "metadata": {},
   "outputs": [
    {
     "data": {
      "text/plain": [
       "4.0    5561926\n",
       "3.0    4291193\n",
       "5.0    2898660\n",
       "3.5    2200156\n",
       "4.5    1534824\n",
       "2.0    1430997\n",
       "2.5     883398\n",
       "1.0     680732\n",
       "1.5     279252\n",
       "0.5     239125\n",
       "Name: rating, dtype: int64"
      ]
     },
     "execution_count": 17,
     "metadata": {},
     "output_type": "execute_result"
    }
   ],
   "source": [
    "rating_df.rating.value_counts()"
   ]
  },
  {
   "cell_type": "code",
   "execution_count": 18,
   "id": "cfce8cba",
   "metadata": {},
   "outputs": [
    {
     "data": {
      "image/png": "[encoded data removed]",
      "text/plain": [
       "<Figure size 720x432 with 1 Axes>"
      ]
     },
     "metadata": {
      "needs_background": "light"
     },
     "output_type": "display_data"
    }
   ],
   "source": [
    "import seaborn as sns\n",
    "import matplotlib.pyplot as plt\n",
    "\n",
    "# Countplot for rating\n",
    "plt.figure(figsize=(10, 6))\n",
    "sns.countplot(x='rating', data=rating_df, palette='coolwarm')\n",
    "plt.title('Count of Ratings')\n",
    "plt.xlabel('Rating')\n",
    "plt.ylabel('Count')\n",
    "plt.show()\n"
   ]
  },
  {
   "cell_type": "code",
   "execution_count": 19,
   "id": "3cdbda78",
   "metadata": {},
   "outputs": [
    {
     "data": {
      "image/png": "[encoded data removed]",
      "text/plain": [
       "<Figure size 720x432 with 1 Axes>"
      ]
     },
     "metadata": {
      "needs_background": "light"
     },
     "output_type": "display_data"
    }
   ],
   "source": [
    "# Freq Distribution of Movie Rating\n",
    "plt.figure(figsize=(10, 6))\n",
    "sns.histplot(rating_df['rating'], bins=9, kde=True)\n",
    "plt.title('Distribution of Movie Rating')\n",
    "plt.xlabel(\"Rating\")\n",
    "plt.ylabel(\"Frequency\")\n",
    "plt.show()"
   ]
  },
  {
   "cell_type": "code",
   "execution_count": 20,
   "id": "0ddac682",
   "metadata": {},
   "outputs": [
    {
     "data": {
      "image/png": "[encoded data removed]",
      "text/plain": [
       "<Figure size 720x432 with 1 Axes>"
      ]
     },
     "metadata": {
      "needs_background": "light"
     },
     "output_type": "display_data"
    }
   ],
   "source": [
    "ratings_per_movie = rating_df.groupby('movieId')['rating'].count()\n",
    "plt.figure(figsize=(10,6))\n",
    "sns.histplot(ratings_per_movie, bins=50, kde=True)\n",
    "plt.title('Number of Ratings per Movie')\n",
    "plt.xlabel(\"Number of Rating\")\n",
    "plt.ylabel(\"Frequency\")\n",
    "plt.show()"
   ]
  },
  {
   "cell_type": "code",
   "execution_count": 21,
   "id": "871f87b3",
   "metadata": {},
   "outputs": [],
   "source": [
    "movie_df = pd.read_csv(\"Movie.csv\")"
   ]
  },
  {
   "cell_type": "code",
   "execution_count": 22,
   "id": "0751fd79",
   "metadata": {},
   "outputs": [
    {
     "data": {
      "text/html": [
       "<div>\n",
       "<style scoped>\n",
       "    .dataframe tbody tr th:only-of-type {\n",
       "        vertical-align: middle;\n",
       "    }\n",
       "\n",
       "    .dataframe tbody tr th {\n",
       "        vertical-align: top;\n",
       "    }\n",
       "\n",
       "    .dataframe thead th {\n",
       "        text-align: right;\n",
       "    }\n",
       "</style>\n",
       "<table border=\"1\" class=\"dataframe\">\n",
       "  <thead>\n",
       "    <tr style=\"text-align: right;\">\n",
       "      <th></th>\n",
       "      <th>movieId</th>\n",
       "      <th>title</th>\n",
       "      <th>genres</th>\n",
       "    </tr>\n",
       "  </thead>\n",
       "  <tbody>\n",
       "    <tr>\n",
       "      <th>0</th>\n",
       "      <td>1</td>\n",
       "      <td>Toy Story (1995)</td>\n",
       "      <td>Adventure|Animation|Children|Comedy|Fantasy</td>\n",
       "    </tr>\n",
       "    <tr>\n",
       "      <th>1</th>\n",
       "      <td>2</td>\n",
       "      <td>Jumanji (1995)</td>\n",
       "      <td>Adventure|Children|Fantasy</td>\n",
       "    </tr>\n",
       "    <tr>\n",
       "      <th>2</th>\n",
       "      <td>3</td>\n",
       "      <td>Grumpier Old Men (1995)</td>\n",
       "      <td>Comedy|Romance</td>\n",
       "    </tr>\n",
       "    <tr>\n",
       "      <th>3</th>\n",
       "      <td>4</td>\n",
       "      <td>Waiting to Exhale (1995)</td>\n",
       "      <td>Comedy|Drama|Romance</td>\n",
       "    </tr>\n",
       "    <tr>\n",
       "      <th>4</th>\n",
       "      <td>5</td>\n",
       "      <td>Father of the Bride Part II (1995)</td>\n",
       "      <td>Comedy</td>\n",
       "    </tr>\n",
       "  </tbody>\n",
       "</table>\n",
       "</div>"
      ],
      "text/plain": [
       "   movieId                               title  \\\n",
       "0        1                    Toy Story (1995)   \n",
       "1        2                      Jumanji (1995)   \n",
       "2        3             Grumpier Old Men (1995)   \n",
       "3        4            Waiting to Exhale (1995)   \n",
       "4        5  Father of the Bride Part II (1995)   \n",
       "\n",
       "                                        genres  \n",
       "0  Adventure|Animation|Children|Comedy|Fantasy  \n",
       "1                   Adventure|Children|Fantasy  \n",
       "2                               Comedy|Romance  \n",
       "3                         Comedy|Drama|Romance  \n",
       "4                                       Comedy  "
      ]
     },
     "execution_count": 22,
     "metadata": {},
     "output_type": "execute_result"
    }
   ],
   "source": [
    "movie_df.head()"
   ]
  },
  {
   "cell_type": "code",
   "execution_count": 23,
   "id": "6bbf2d7b",
   "metadata": {},
   "outputs": [
    {
     "data": {
      "text/plain": [
       "(27278, 3)"
      ]
     },
     "execution_count": 23,
     "metadata": {},
     "output_type": "execute_result"
    }
   ],
   "source": [
    "movie_df.shape"
   ]
  },
  {
   "cell_type": "code",
   "execution_count": 24,
   "id": "0110ea77",
   "metadata": {},
   "outputs": [
    {
     "data": {
      "text/plain": [
       "movieId    0\n",
       "title      0\n",
       "genres     0\n",
       "dtype: int64"
      ]
     },
     "execution_count": 24,
     "metadata": {},
     "output_type": "execute_result"
    }
   ],
   "source": [
    "movie_df.isnull().sum()"
   ]
  },
  {
   "cell_type": "code",
   "execution_count": 25,
   "id": "c3debedf",
   "metadata": {},
   "outputs": [
    {
     "name": "stdout",
     "output_type": "stream",
     "text": [
      "<class 'pandas.core.frame.DataFrame'>\n",
      "RangeIndex: 27278 entries, 0 to 27277\n",
      "Data columns (total 3 columns):\n",
      " #   Column   Non-Null Count  Dtype \n",
      "---  ------   --------------  ----- \n",
      " 0   movieId  27278 non-null  int64 \n",
      " 1   title    27278 non-null  object\n",
      " 2   genres   27278 non-null  object\n",
      "dtypes: int64(1), object(2)\n",
      "memory usage: 639.5+ KB\n"
     ]
    }
   ],
   "source": [
    "movie_df.info()"
   ]
  },
  {
   "cell_type": "code",
   "execution_count": 26,
   "id": "5ace5cbe",
   "metadata": {},
   "outputs": [
    {
     "data": {
      "text/html": [
       "<div>\n",
       "<style scoped>\n",
       "    .dataframe tbody tr th:only-of-type {\n",
       "        vertical-align: middle;\n",
       "    }\n",
       "\n",
       "    .dataframe tbody tr th {\n",
       "        vertical-align: top;\n",
       "    }\n",
       "\n",
       "    .dataframe thead th {\n",
       "        text-align: right;\n",
       "    }\n",
       "</style>\n",
       "<table border=\"1\" class=\"dataframe\">\n",
       "  <thead>\n",
       "    <tr style=\"text-align: right;\">\n",
       "      <th></th>\n",
       "      <th>movieId</th>\n",
       "      <th>title</th>\n",
       "      <th>genres</th>\n",
       "    </tr>\n",
       "  </thead>\n",
       "  <tbody>\n",
       "    <tr>\n",
       "      <th>0</th>\n",
       "      <td>1</td>\n",
       "      <td>Toy Story (1995)</td>\n",
       "      <td>[Adventure, Animation, Children, Comedy, Fantasy]</td>\n",
       "    </tr>\n",
       "    <tr>\n",
       "      <th>1</th>\n",
       "      <td>2</td>\n",
       "      <td>Jumanji (1995)</td>\n",
       "      <td>[Adventure, Children, Fantasy]</td>\n",
       "    </tr>\n",
       "    <tr>\n",
       "      <th>2</th>\n",
       "      <td>3</td>\n",
       "      <td>Grumpier Old Men (1995)</td>\n",
       "      <td>[Comedy, Romance]</td>\n",
       "    </tr>\n",
       "    <tr>\n",
       "      <th>3</th>\n",
       "      <td>4</td>\n",
       "      <td>Waiting to Exhale (1995)</td>\n",
       "      <td>[Comedy, Drama, Romance]</td>\n",
       "    </tr>\n",
       "    <tr>\n",
       "      <th>4</th>\n",
       "      <td>5</td>\n",
       "      <td>Father of the Bride Part II (1995)</td>\n",
       "      <td>[Comedy]</td>\n",
       "    </tr>\n",
       "    <tr>\n",
       "      <th>...</th>\n",
       "      <td>...</td>\n",
       "      <td>...</td>\n",
       "      <td>...</td>\n",
       "    </tr>\n",
       "    <tr>\n",
       "      <th>27273</th>\n",
       "      <td>131254</td>\n",
       "      <td>Kein Bund für's Leben (2007)</td>\n",
       "      <td>[Comedy]</td>\n",
       "    </tr>\n",
       "    <tr>\n",
       "      <th>27274</th>\n",
       "      <td>131256</td>\n",
       "      <td>Feuer, Eis &amp; Dosenbier (2002)</td>\n",
       "      <td>[Comedy]</td>\n",
       "    </tr>\n",
       "    <tr>\n",
       "      <th>27275</th>\n",
       "      <td>131258</td>\n",
       "      <td>The Pirates (2014)</td>\n",
       "      <td>[Adventure]</td>\n",
       "    </tr>\n",
       "    <tr>\n",
       "      <th>27276</th>\n",
       "      <td>131260</td>\n",
       "      <td>Rentun Ruusu (2001)</td>\n",
       "      <td>[(no genres listed)]</td>\n",
       "    </tr>\n",
       "    <tr>\n",
       "      <th>27277</th>\n",
       "      <td>131262</td>\n",
       "      <td>Innocence (2014)</td>\n",
       "      <td>[Adventure, Fantasy, Horror]</td>\n",
       "    </tr>\n",
       "  </tbody>\n",
       "</table>\n",
       "<p>27278 rows × 3 columns</p>\n",
       "</div>"
      ],
      "text/plain": [
       "       movieId                               title  \\\n",
       "0            1                    Toy Story (1995)   \n",
       "1            2                      Jumanji (1995)   \n",
       "2            3             Grumpier Old Men (1995)   \n",
       "3            4            Waiting to Exhale (1995)   \n",
       "4            5  Father of the Bride Part II (1995)   \n",
       "...        ...                                 ...   \n",
       "27273   131254        Kein Bund für's Leben (2007)   \n",
       "27274   131256       Feuer, Eis & Dosenbier (2002)   \n",
       "27275   131258                  The Pirates (2014)   \n",
       "27276   131260                 Rentun Ruusu (2001)   \n",
       "27277   131262                    Innocence (2014)   \n",
       "\n",
       "                                                  genres  \n",
       "0      [Adventure, Animation, Children, Comedy, Fantasy]  \n",
       "1                         [Adventure, Children, Fantasy]  \n",
       "2                                      [Comedy, Romance]  \n",
       "3                               [Comedy, Drama, Romance]  \n",
       "4                                               [Comedy]  \n",
       "...                                                  ...  \n",
       "27273                                           [Comedy]  \n",
       "27274                                           [Comedy]  \n",
       "27275                                        [Adventure]  \n",
       "27276                               [(no genres listed)]  \n",
       "27277                       [Adventure, Fantasy, Horror]  \n",
       "\n",
       "[27278 rows x 3 columns]"
      ]
     },
     "execution_count": 26,
     "metadata": {},
     "output_type": "execute_result"
    }
   ],
   "source": [
    "# Genres Processing\n",
    "movie_df['genres'] = movie_df['genres'].str.split('|') \n",
    "movie_df"
   ]
  },
  {
   "cell_type": "code",
   "execution_count": 27,
   "id": "e6f36ad4",
   "metadata": {},
   "outputs": [
    {
     "name": "stderr",
     "output_type": "stream",
     "text": [
      "/var/folders/bt/_bxgcdhj6z3_nfpmnzbyygj00000gn/T/ipykernel_6021/1104282470.py:6: FutureWarning: The default value of regex will change from True to False in a future version.\n",
      "  movie_df_new['movie_title'] = movie_df['title'].str.replace(r'\\(\\d{4}\\)', '').str.strip()\n"
     ]
    },
    {
     "data": {
      "text/html": [
       "<div>\n",
       "<style scoped>\n",
       "    .dataframe tbody tr th:only-of-type {\n",
       "        vertical-align: middle;\n",
       "    }\n",
       "\n",
       "    .dataframe tbody tr th {\n",
       "        vertical-align: top;\n",
       "    }\n",
       "\n",
       "    .dataframe thead th {\n",
       "        text-align: right;\n",
       "    }\n",
       "</style>\n",
       "<table border=\"1\" class=\"dataframe\">\n",
       "  <thead>\n",
       "    <tr style=\"text-align: right;\">\n",
       "      <th></th>\n",
       "      <th>movieId</th>\n",
       "      <th>movie_title</th>\n",
       "      <th>release_year</th>\n",
       "      <th>genres</th>\n",
       "    </tr>\n",
       "  </thead>\n",
       "  <tbody>\n",
       "    <tr>\n",
       "      <th>0</th>\n",
       "      <td>1</td>\n",
       "      <td>Toy Story</td>\n",
       "      <td>1995</td>\n",
       "      <td>NaN</td>\n",
       "    </tr>\n",
       "    <tr>\n",
       "      <th>1</th>\n",
       "      <td>2</td>\n",
       "      <td>Jumanji</td>\n",
       "      <td>1995</td>\n",
       "      <td>NaN</td>\n",
       "    </tr>\n",
       "    <tr>\n",
       "      <th>2</th>\n",
       "      <td>3</td>\n",
       "      <td>Grumpier Old Men</td>\n",
       "      <td>1995</td>\n",
       "      <td>NaN</td>\n",
       "    </tr>\n",
       "    <tr>\n",
       "      <th>3</th>\n",
       "      <td>4</td>\n",
       "      <td>Waiting to Exhale</td>\n",
       "      <td>1995</td>\n",
       "      <td>NaN</td>\n",
       "    </tr>\n",
       "    <tr>\n",
       "      <th>4</th>\n",
       "      <td>5</td>\n",
       "      <td>Father of the Bride Part II</td>\n",
       "      <td>1995</td>\n",
       "      <td>NaN</td>\n",
       "    </tr>\n",
       "    <tr>\n",
       "      <th>5</th>\n",
       "      <td>6</td>\n",
       "      <td>Heat</td>\n",
       "      <td>1995</td>\n",
       "      <td>NaN</td>\n",
       "    </tr>\n",
       "    <tr>\n",
       "      <th>6</th>\n",
       "      <td>7</td>\n",
       "      <td>Sabrina</td>\n",
       "      <td>1995</td>\n",
       "      <td>NaN</td>\n",
       "    </tr>\n",
       "    <tr>\n",
       "      <th>7</th>\n",
       "      <td>8</td>\n",
       "      <td>Tom and Huck</td>\n",
       "      <td>1995</td>\n",
       "      <td>NaN</td>\n",
       "    </tr>\n",
       "    <tr>\n",
       "      <th>8</th>\n",
       "      <td>9</td>\n",
       "      <td>Sudden Death</td>\n",
       "      <td>1995</td>\n",
       "      <td>NaN</td>\n",
       "    </tr>\n",
       "    <tr>\n",
       "      <th>9</th>\n",
       "      <td>10</td>\n",
       "      <td>GoldenEye</td>\n",
       "      <td>1995</td>\n",
       "      <td>NaN</td>\n",
       "    </tr>\n",
       "  </tbody>\n",
       "</table>\n",
       "</div>"
      ],
      "text/plain": [
       "   movieId                  movie_title release_year  genres\n",
       "0        1                    Toy Story         1995     NaN\n",
       "1        2                      Jumanji         1995     NaN\n",
       "2        3             Grumpier Old Men         1995     NaN\n",
       "3        4            Waiting to Exhale         1995     NaN\n",
       "4        5  Father of the Bride Part II         1995     NaN\n",
       "5        6                         Heat         1995     NaN\n",
       "6        7                      Sabrina         1995     NaN\n",
       "7        8                 Tom and Huck         1995     NaN\n",
       "8        9                 Sudden Death         1995     NaN\n",
       "9       10                    GoldenEye         1995     NaN"
      ]
     },
     "execution_count": 27,
     "metadata": {},
     "output_type": "execute_result"
    }
   ],
   "source": [
    "#Creating this new dataframe for EDA purpose only \n",
    "movie_df_new = movie_df.copy()\n",
    "\n",
    "# Extracted movie year and movie title into different columns\n",
    "movie_df_new['release_year'] = movie_df['title'].str.extract(r'\\((\\d{4})\\)', expand=False)\n",
    "movie_df_new['movie_title'] = movie_df['title'].str.replace(r'\\(\\d{4}\\)', '').str.strip()\n",
    "\n",
    "# Genres Processing\n",
    "movie_df_new['genres'] = movie_df_new['genres'].str.split('|')  \n",
    "\n",
    "movie_df_new = movie_df_new.drop('title', axis=1)\n",
    "movie_df_new = movie_df_new[['movieId', 'movie_title', 'release_year', 'genres']]\n",
    "\n",
    "# Display the first few rows of the new DataFrame\n",
    "movie_df_new.head(10)\n"
   ]
  },
  {
   "cell_type": "code",
   "execution_count": null,
   "id": "79454e0d",
   "metadata": {},
   "outputs": [],
   "source": []
  },
  {
   "cell_type": "code",
   "execution_count": 28,
   "id": "92af8906",
   "metadata": {},
   "outputs": [
    {
     "name": "stdout",
     "output_type": "stream",
     "text": [
      "   movieId                  movie_title release_year  genres\n",
      "0        1                    Toy Story         1995     NaN\n",
      "1        2                      Jumanji         1995     NaN\n",
      "2        3             Grumpier Old Men         1995     NaN\n",
      "3        4            Waiting to Exhale         1995     NaN\n",
      "4        5  Father of the Bride Part II         1995     NaN\n"
     ]
    },
    {
     "data": {
      "text/plain": [
       "(27278, 4)"
      ]
     },
     "execution_count": 28,
     "metadata": {},
     "output_type": "execute_result"
    }
   ],
   "source": [
    "print(movie_df_new.head())\n",
    "movie_df_new.shape"
   ]
  },
  {
   "cell_type": "code",
   "execution_count": 29,
   "id": "07580889",
   "metadata": {},
   "outputs": [
    {
     "data": {
      "text/plain": [
       "2009    1113\n",
       "2012    1022\n",
       "2011    1016\n",
       "2013    1011\n",
       "2008     979\n",
       "        ... \n",
       "1893       1\n",
       "1901       1\n",
       "1903       1\n",
       "1902       1\n",
       "1891       1\n",
       "Name: release_year, Length: 118, dtype: int64"
      ]
     },
     "execution_count": 29,
     "metadata": {},
     "output_type": "execute_result"
    }
   ],
   "source": [
    "movie_df_new.release_year.value_counts()"
   ]
  },
  {
   "cell_type": "code",
   "execution_count": 30,
   "id": "25744891",
   "metadata": {},
   "outputs": [
    {
     "data": {
      "image/png": "[encoded data removed]",
      "text/plain": [
       "<Figure size 1080x432 with 1 Axes>"
      ]
     },
     "metadata": {
      "needs_background": "light"
     },
     "output_type": "display_data"
    }
   ],
   "source": [
    "import matplotlib.pyplot as plt\n",
    "import seaborn as sns\n",
    "\n",
    "plt.figure(figsize=(15, 6))\n",
    "sns.countplot(x='release_year', data=movie_df_new, order=movie_df_new['release_year'].value_counts().index)\n",
    "plt.title('Distribution of Movies by Release Year')\n",
    "plt.xlabel(\"Release Year\")\n",
    "plt.ylabel(\"Number of Movies\")\n",
    "plt.xticks(rotation=45, ha='right')  # Rotate x-axis labels for better visibility\n",
    "plt.show()\n"
   ]
  },
  {
   "cell_type": "code",
   "execution_count": 31,
   "id": "020a412c",
   "metadata": {},
   "outputs": [
    {
     "name": "stdout",
     "output_type": "stream",
     "text": [
      "<class 'pandas.core.frame.DataFrame'>\n",
      "RangeIndex: 27278 entries, 0 to 27277\n",
      "Data columns (total 4 columns):\n",
      " #   Column        Non-Null Count  Dtype  \n",
      "---  ------        --------------  -----  \n",
      " 0   movieId       27278 non-null  int64  \n",
      " 1   movie_title   27278 non-null  object \n",
      " 2   release_year  27256 non-null  object \n",
      " 3   genres        0 non-null      float64\n",
      "dtypes: float64(1), int64(1), object(2)\n",
      "memory usage: 852.6+ KB\n"
     ]
    }
   ],
   "source": [
    "movie_df_new.info()"
   ]
  },
  {
   "cell_type": "code",
   "execution_count": 32,
   "id": "07f7e4ee",
   "metadata": {},
   "outputs": [],
   "source": [
    "import pandas as pd\n",
    "\n",
    "movie_df_new['release_year'] = pd.to_datetime(movie_df_new['release_year'], errors='coerce')\n"
   ]
  },
  {
   "cell_type": "code",
   "execution_count": 33,
   "id": "1572ed53",
   "metadata": {},
   "outputs": [
    {
     "name": "stdout",
     "output_type": "stream",
     "text": [
      "<class 'pandas.core.frame.DataFrame'>\n",
      "RangeIndex: 27278 entries, 0 to 27277\n",
      "Data columns (total 4 columns):\n",
      " #   Column        Non-Null Count  Dtype         \n",
      "---  ------        --------------  -----         \n",
      " 0   movieId       27278 non-null  int64         \n",
      " 1   movie_title   27278 non-null  object        \n",
      " 2   release_year  27256 non-null  datetime64[ns]\n",
      " 3   genres        0 non-null      float64       \n",
      "dtypes: datetime64[ns](1), float64(1), int64(1), object(1)\n",
      "memory usage: 852.6+ KB\n"
     ]
    }
   ],
   "source": [
    "movie_df_new.info()"
   ]
  },
  {
   "cell_type": "code",
   "execution_count": 34,
   "id": "e8717681",
   "metadata": {},
   "outputs": [
    {
     "data": {
      "image/png": "[encoded data removed]",
      "text/plain": [
       "<Figure size 576x576 with 1 Axes>"
      ]
     },
     "metadata": {},
     "output_type": "display_data"
    }
   ],
   "source": [
    "\n",
    "import seaborn as sns\n",
    "\n",
    "# Define the color palette\n",
    "a = plt.cm.cool\n",
    "\n",
    "top_genres = movie_df_new['genres'].explode().value_counts().head(10)\n",
    "colors = [a(0.1), a(0.2), a(0.3), a(0.4), a(0.5), a(0.6), a(0.7), a(0.8), a(0.9), a(0.99)]\n",
    "\n",
    "# Create a pie chart with the specified colors\n",
    "plt.figure(figsize=(8, 8))\n",
    "plt.pie(top_genres.values, labels=top_genres.index, colors=colors, autopct='%1.1f%%', startangle=140)\n",
    "plt.title('Top Movie Genres')\n",
    "plt.axis('equal')  # Equal aspect ratio ensures that pie is drawn as a circle.\n",
    "\n",
    "plt.show()\n"
   ]
  },
  {
   "cell_type": "code",
   "execution_count": 35,
   "id": "a508dcd3",
   "metadata": {},
   "outputs": [
    {
     "data": {
      "text/html": [
       "<div>\n",
       "<style scoped>\n",
       "    .dataframe tbody tr th:only-of-type {\n",
       "        vertical-align: middle;\n",
       "    }\n",
       "\n",
       "    .dataframe tbody tr th {\n",
       "        vertical-align: top;\n",
       "    }\n",
       "\n",
       "    .dataframe thead th {\n",
       "        text-align: right;\n",
       "    }\n",
       "</style>\n",
       "<table border=\"1\" class=\"dataframe\">\n",
       "  <thead>\n",
       "    <tr style=\"text-align: right;\">\n",
       "      <th></th>\n",
       "      <th>movieId</th>\n",
       "      <th>imdbId</th>\n",
       "      <th>tmdbId</th>\n",
       "    </tr>\n",
       "  </thead>\n",
       "  <tbody>\n",
       "    <tr>\n",
       "      <th>0</th>\n",
       "      <td>1</td>\n",
       "      <td>114709</td>\n",
       "      <td>862.0</td>\n",
       "    </tr>\n",
       "    <tr>\n",
       "      <th>1</th>\n",
       "      <td>2</td>\n",
       "      <td>113497</td>\n",
       "      <td>8844.0</td>\n",
       "    </tr>\n",
       "    <tr>\n",
       "      <th>2</th>\n",
       "      <td>3</td>\n",
       "      <td>113228</td>\n",
       "      <td>15602.0</td>\n",
       "    </tr>\n",
       "    <tr>\n",
       "      <th>3</th>\n",
       "      <td>4</td>\n",
       "      <td>114885</td>\n",
       "      <td>31357.0</td>\n",
       "    </tr>\n",
       "    <tr>\n",
       "      <th>4</th>\n",
       "      <td>5</td>\n",
       "      <td>113041</td>\n",
       "      <td>11862.0</td>\n",
       "    </tr>\n",
       "  </tbody>\n",
       "</table>\n",
       "</div>"
      ],
      "text/plain": [
       "   movieId  imdbId   tmdbId\n",
       "0        1  114709    862.0\n",
       "1        2  113497   8844.0\n",
       "2        3  113228  15602.0\n",
       "3        4  114885  31357.0\n",
       "4        5  113041  11862.0"
      ]
     },
     "execution_count": 35,
     "metadata": {},
     "output_type": "execute_result"
    }
   ],
   "source": [
    "link_df = pd.read_csv(\"Link.csv\")\n",
    "link_df.head()"
   ]
  },
  {
   "cell_type": "code",
   "execution_count": 36,
   "id": "f79e6645",
   "metadata": {},
   "outputs": [
    {
     "data": {
      "text/plain": [
       "(27278, 3)"
      ]
     },
     "execution_count": 36,
     "metadata": {},
     "output_type": "execute_result"
    }
   ],
   "source": [
    "link_df.shape"
   ]
  },
  {
   "cell_type": "code",
   "execution_count": 37,
   "id": "83f14617",
   "metadata": {},
   "outputs": [
    {
     "data": {
      "text/plain": [
       "movieId      0\n",
       "imdbId       0\n",
       "tmdbId     252\n",
       "dtype: int64"
      ]
     },
     "execution_count": 37,
     "metadata": {},
     "output_type": "execute_result"
    }
   ],
   "source": [
    "link_df.isnull().sum()"
   ]
  },
  {
   "cell_type": "code",
   "execution_count": 38,
   "id": "ee307398",
   "metadata": {},
   "outputs": [
    {
     "name": "stdout",
     "output_type": "stream",
     "text": [
      "<class 'pandas.core.frame.DataFrame'>\n",
      "RangeIndex: 27278 entries, 0 to 27277\n",
      "Data columns (total 3 columns):\n",
      " #   Column   Non-Null Count  Dtype  \n",
      "---  ------   --------------  -----  \n",
      " 0   movieId  27278 non-null  int64  \n",
      " 1   imdbId   27278 non-null  int64  \n",
      " 2   tmdbId   27026 non-null  float64\n",
      "dtypes: float64(1), int64(2)\n",
      "memory usage: 639.5 KB\n"
     ]
    }
   ],
   "source": [
    "link_df.info()"
   ]
  },
  {
   "cell_type": "code",
   "execution_count": 39,
   "id": "b4ed400c",
   "metadata": {},
   "outputs": [
    {
     "data": {
      "text/html": [
       "<div>\n",
       "<style scoped>\n",
       "    .dataframe tbody tr th:only-of-type {\n",
       "        vertical-align: middle;\n",
       "    }\n",
       "\n",
       "    .dataframe tbody tr th {\n",
       "        vertical-align: top;\n",
       "    }\n",
       "\n",
       "    .dataframe thead th {\n",
       "        text-align: right;\n",
       "    }\n",
       "</style>\n",
       "<table border=\"1\" class=\"dataframe\">\n",
       "  <thead>\n",
       "    <tr style=\"text-align: right;\">\n",
       "      <th></th>\n",
       "      <th>movieId</th>\n",
       "      <th>imdbId</th>\n",
       "      <th>tmdbId</th>\n",
       "    </tr>\n",
       "  </thead>\n",
       "  <tbody>\n",
       "    <tr>\n",
       "      <th>count</th>\n",
       "      <td>27278.000000</td>\n",
       "      <td>2.727800e+04</td>\n",
       "      <td>27026.000000</td>\n",
       "    </tr>\n",
       "    <tr>\n",
       "      <th>mean</th>\n",
       "      <td>59855.480570</td>\n",
       "      <td>5.781860e+05</td>\n",
       "      <td>63846.683083</td>\n",
       "    </tr>\n",
       "    <tr>\n",
       "      <th>std</th>\n",
       "      <td>44429.314697</td>\n",
       "      <td>7.804707e+05</td>\n",
       "      <td>69862.134497</td>\n",
       "    </tr>\n",
       "    <tr>\n",
       "      <th>min</th>\n",
       "      <td>1.000000</td>\n",
       "      <td>5.000000e+00</td>\n",
       "      <td>2.000000</td>\n",
       "    </tr>\n",
       "    <tr>\n",
       "      <th>25%</th>\n",
       "      <td>6931.250000</td>\n",
       "      <td>7.741725e+04</td>\n",
       "      <td>15936.500000</td>\n",
       "    </tr>\n",
       "    <tr>\n",
       "      <th>50%</th>\n",
       "      <td>68068.000000</td>\n",
       "      <td>1.524350e+05</td>\n",
       "      <td>39468.500000</td>\n",
       "    </tr>\n",
       "    <tr>\n",
       "      <th>75%</th>\n",
       "      <td>100293.250000</td>\n",
       "      <td>9.062715e+05</td>\n",
       "      <td>82504.000000</td>\n",
       "    </tr>\n",
       "    <tr>\n",
       "      <th>max</th>\n",
       "      <td>131262.000000</td>\n",
       "      <td>4.530184e+06</td>\n",
       "      <td>421510.000000</td>\n",
       "    </tr>\n",
       "  </tbody>\n",
       "</table>\n",
       "</div>"
      ],
      "text/plain": [
       "             movieId        imdbId         tmdbId\n",
       "count   27278.000000  2.727800e+04   27026.000000\n",
       "mean    59855.480570  5.781860e+05   63846.683083\n",
       "std     44429.314697  7.804707e+05   69862.134497\n",
       "min         1.000000  5.000000e+00       2.000000\n",
       "25%      6931.250000  7.741725e+04   15936.500000\n",
       "50%     68068.000000  1.524350e+05   39468.500000\n",
       "75%    100293.250000  9.062715e+05   82504.000000\n",
       "max    131262.000000  4.530184e+06  421510.000000"
      ]
     },
     "execution_count": 39,
     "metadata": {},
     "output_type": "execute_result"
    }
   ],
   "source": [
    "link_df.describe()"
   ]
  },
  {
   "cell_type": "code",
   "execution_count": 40,
   "id": "21a39f61",
   "metadata": {},
   "outputs": [
    {
     "data": {
      "text/html": [
       "<div>\n",
       "<style scoped>\n",
       "    .dataframe tbody tr th:only-of-type {\n",
       "        vertical-align: middle;\n",
       "    }\n",
       "\n",
       "    .dataframe tbody tr th {\n",
       "        vertical-align: top;\n",
       "    }\n",
       "\n",
       "    .dataframe thead th {\n",
       "        text-align: right;\n",
       "    }\n",
       "</style>\n",
       "<table border=\"1\" class=\"dataframe\">\n",
       "  <thead>\n",
       "    <tr style=\"text-align: right;\">\n",
       "      <th></th>\n",
       "      <th>movieId</th>\n",
       "      <th>tagId</th>\n",
       "      <th>relevance</th>\n",
       "    </tr>\n",
       "  </thead>\n",
       "  <tbody>\n",
       "    <tr>\n",
       "      <th>0</th>\n",
       "      <td>1</td>\n",
       "      <td>1</td>\n",
       "      <td>0.02500</td>\n",
       "    </tr>\n",
       "    <tr>\n",
       "      <th>1</th>\n",
       "      <td>1</td>\n",
       "      <td>2</td>\n",
       "      <td>0.02500</td>\n",
       "    </tr>\n",
       "    <tr>\n",
       "      <th>2</th>\n",
       "      <td>1</td>\n",
       "      <td>3</td>\n",
       "      <td>0.05775</td>\n",
       "    </tr>\n",
       "    <tr>\n",
       "      <th>3</th>\n",
       "      <td>1</td>\n",
       "      <td>4</td>\n",
       "      <td>0.09675</td>\n",
       "    </tr>\n",
       "    <tr>\n",
       "      <th>4</th>\n",
       "      <td>1</td>\n",
       "      <td>5</td>\n",
       "      <td>0.14675</td>\n",
       "    </tr>\n",
       "  </tbody>\n",
       "</table>\n",
       "</div>"
      ],
      "text/plain": [
       "   movieId  tagId  relevance\n",
       "0        1      1    0.02500\n",
       "1        1      2    0.02500\n",
       "2        1      3    0.05775\n",
       "3        1      4    0.09675\n",
       "4        1      5    0.14675"
      ]
     },
     "execution_count": 40,
     "metadata": {},
     "output_type": "execute_result"
    }
   ],
   "source": [
    "genome_scores_df = pd.read_csv(\"Genome_scores.csv\")\n",
    "genome_scores_df.head()"
   ]
  },
  {
   "cell_type": "code",
   "execution_count": 41,
   "id": "f3b2c847",
   "metadata": {},
   "outputs": [
    {
     "data": {
      "text/plain": [
       "(11709768, 3)"
      ]
     },
     "execution_count": 41,
     "metadata": {},
     "output_type": "execute_result"
    }
   ],
   "source": [
    "genome_scores_df.shape"
   ]
  },
  {
   "cell_type": "code",
   "execution_count": 42,
   "id": "86059753",
   "metadata": {},
   "outputs": [
    {
     "data": {
      "text/plain": [
       "movieId      0\n",
       "tagId        0\n",
       "relevance    0\n",
       "dtype: int64"
      ]
     },
     "execution_count": 42,
     "metadata": {},
     "output_type": "execute_result"
    }
   ],
   "source": [
    "genome_scores_df.isnull().sum()"
   ]
  },
  {
   "cell_type": "code",
   "execution_count": 43,
   "id": "3dd9de99",
   "metadata": {},
   "outputs": [],
   "source": [
    "genome_scores_df.rename(columns={'tagId':'genome_tag_Id'}, inplace=True)  #Tag ID refers to genome tag ID"
   ]
  },
  {
   "cell_type": "code",
   "execution_count": 44,
   "id": "8c14ecda",
   "metadata": {},
   "outputs": [
    {
     "name": "stdout",
     "output_type": "stream",
     "text": [
      "<class 'pandas.core.frame.DataFrame'>\n",
      "RangeIndex: 11709768 entries, 0 to 11709767\n",
      "Data columns (total 3 columns):\n",
      " #   Column         Dtype  \n",
      "---  ------         -----  \n",
      " 0   movieId        int64  \n",
      " 1   genome_tag_Id  int64  \n",
      " 2   relevance      float64\n",
      "dtypes: float64(1), int64(2)\n",
      "memory usage: 268.0 MB\n"
     ]
    }
   ],
   "source": [
    "genome_scores_df.info()"
   ]
  },
  {
   "cell_type": "code",
   "execution_count": 45,
   "id": "c79ce3ac",
   "metadata": {},
   "outputs": [
    {
     "data": {
      "text/html": [
       "<div>\n",
       "<style scoped>\n",
       "    .dataframe tbody tr th:only-of-type {\n",
       "        vertical-align: middle;\n",
       "    }\n",
       "\n",
       "    .dataframe tbody tr th {\n",
       "        vertical-align: top;\n",
       "    }\n",
       "\n",
       "    .dataframe thead th {\n",
       "        text-align: right;\n",
       "    }\n",
       "</style>\n",
       "<table border=\"1\" class=\"dataframe\">\n",
       "  <thead>\n",
       "    <tr style=\"text-align: right;\">\n",
       "      <th></th>\n",
       "      <th>movieId</th>\n",
       "      <th>genome_tag_Id</th>\n",
       "      <th>relevance</th>\n",
       "    </tr>\n",
       "  </thead>\n",
       "  <tbody>\n",
       "    <tr>\n",
       "      <th>count</th>\n",
       "      <td>11709768.00</td>\n",
       "      <td>11709768.00</td>\n",
       "      <td>11709768.00</td>\n",
       "    </tr>\n",
       "    <tr>\n",
       "      <th>mean</th>\n",
       "      <td>25842.97</td>\n",
       "      <td>564.50</td>\n",
       "      <td>0.12</td>\n",
       "    </tr>\n",
       "    <tr>\n",
       "      <th>std</th>\n",
       "      <td>34676.15</td>\n",
       "      <td>325.63</td>\n",
       "      <td>0.15</td>\n",
       "    </tr>\n",
       "    <tr>\n",
       "      <th>min</th>\n",
       "      <td>1.00</td>\n",
       "      <td>1.00</td>\n",
       "      <td>0.00</td>\n",
       "    </tr>\n",
       "    <tr>\n",
       "      <th>25%</th>\n",
       "      <td>2926.00</td>\n",
       "      <td>282.75</td>\n",
       "      <td>0.02</td>\n",
       "    </tr>\n",
       "    <tr>\n",
       "      <th>50%</th>\n",
       "      <td>6017.00</td>\n",
       "      <td>564.50</td>\n",
       "      <td>0.06</td>\n",
       "    </tr>\n",
       "    <tr>\n",
       "      <th>75%</th>\n",
       "      <td>46062.00</td>\n",
       "      <td>846.25</td>\n",
       "      <td>0.14</td>\n",
       "    </tr>\n",
       "    <tr>\n",
       "      <th>max</th>\n",
       "      <td>131170.00</td>\n",
       "      <td>1128.00</td>\n",
       "      <td>1.00</td>\n",
       "    </tr>\n",
       "  </tbody>\n",
       "</table>\n",
       "</div>"
      ],
      "text/plain": [
       "           movieId  genome_tag_Id    relevance\n",
       "count  11709768.00    11709768.00  11709768.00\n",
       "mean      25842.97         564.50         0.12\n",
       "std       34676.15         325.63         0.15\n",
       "min           1.00           1.00         0.00\n",
       "25%        2926.00         282.75         0.02\n",
       "50%        6017.00         564.50         0.06\n",
       "75%       46062.00         846.25         0.14\n",
       "max      131170.00        1128.00         1.00"
      ]
     },
     "execution_count": 45,
     "metadata": {},
     "output_type": "execute_result"
    }
   ],
   "source": [
    "genome_scores_df.describe().round(2)"
   ]
  },
  {
   "cell_type": "code",
   "execution_count": 46,
   "id": "3304bafc",
   "metadata": {},
   "outputs": [
    {
     "data": {
      "text/html": [
       "<div>\n",
       "<style scoped>\n",
       "    .dataframe tbody tr th:only-of-type {\n",
       "        vertical-align: middle;\n",
       "    }\n",
       "\n",
       "    .dataframe tbody tr th {\n",
       "        vertical-align: top;\n",
       "    }\n",
       "\n",
       "    .dataframe thead th {\n",
       "        text-align: right;\n",
       "    }\n",
       "</style>\n",
       "<table border=\"1\" class=\"dataframe\">\n",
       "  <thead>\n",
       "    <tr style=\"text-align: right;\">\n",
       "      <th></th>\n",
       "      <th>tagId</th>\n",
       "      <th>tag</th>\n",
       "    </tr>\n",
       "  </thead>\n",
       "  <tbody>\n",
       "    <tr>\n",
       "      <th>0</th>\n",
       "      <td>1</td>\n",
       "      <td>007</td>\n",
       "    </tr>\n",
       "    <tr>\n",
       "      <th>1</th>\n",
       "      <td>2</td>\n",
       "      <td>007 (series)</td>\n",
       "    </tr>\n",
       "    <tr>\n",
       "      <th>2</th>\n",
       "      <td>3</td>\n",
       "      <td>18th century</td>\n",
       "    </tr>\n",
       "    <tr>\n",
       "      <th>3</th>\n",
       "      <td>4</td>\n",
       "      <td>1920s</td>\n",
       "    </tr>\n",
       "    <tr>\n",
       "      <th>4</th>\n",
       "      <td>5</td>\n",
       "      <td>1930s</td>\n",
       "    </tr>\n",
       "    <tr>\n",
       "      <th>...</th>\n",
       "      <td>...</td>\n",
       "      <td>...</td>\n",
       "    </tr>\n",
       "    <tr>\n",
       "      <th>1123</th>\n",
       "      <td>1124</td>\n",
       "      <td>writing</td>\n",
       "    </tr>\n",
       "    <tr>\n",
       "      <th>1124</th>\n",
       "      <td>1125</td>\n",
       "      <td>wuxia</td>\n",
       "    </tr>\n",
       "    <tr>\n",
       "      <th>1125</th>\n",
       "      <td>1126</td>\n",
       "      <td>wwii</td>\n",
       "    </tr>\n",
       "    <tr>\n",
       "      <th>1126</th>\n",
       "      <td>1127</td>\n",
       "      <td>zombie</td>\n",
       "    </tr>\n",
       "    <tr>\n",
       "      <th>1127</th>\n",
       "      <td>1128</td>\n",
       "      <td>zombies</td>\n",
       "    </tr>\n",
       "  </tbody>\n",
       "</table>\n",
       "<p>1128 rows × 2 columns</p>\n",
       "</div>"
      ],
      "text/plain": [
       "      tagId           tag\n",
       "0         1           007\n",
       "1         2  007 (series)\n",
       "2         3  18th century\n",
       "3         4         1920s\n",
       "4         5         1930s\n",
       "...     ...           ...\n",
       "1123   1124       writing\n",
       "1124   1125         wuxia\n",
       "1125   1126          wwii\n",
       "1126   1127        zombie\n",
       "1127   1128       zombies\n",
       "\n",
       "[1128 rows x 2 columns]"
      ]
     },
     "execution_count": 46,
     "metadata": {},
     "output_type": "execute_result"
    }
   ],
   "source": [
    "genome_tags_df = pd.read_csv(\"Genome_tags.csv\")\n",
    "genome_tags_df"
   ]
  },
  {
   "cell_type": "code",
   "execution_count": 47,
   "id": "e5e05739",
   "metadata": {},
   "outputs": [
    {
     "data": {
      "text/plain": [
       "(1128, 2)"
      ]
     },
     "execution_count": 47,
     "metadata": {},
     "output_type": "execute_result"
    }
   ],
   "source": [
    "genome_tags_df.shape"
   ]
  },
  {
   "cell_type": "code",
   "execution_count": 48,
   "id": "55bdfc77",
   "metadata": {},
   "outputs": [],
   "source": [
    "genome_tags_df.rename(columns={'tag':'genome_tag'}, inplace=True)   #This tag refers to genome tag therefore changed the columnname to genome_tag\n",
    "\n",
    "genome_tags_df.rename(columns={'tagId':'genome_tag_Id'}, inplace=True)"
   ]
  },
  {
   "cell_type": "code",
   "execution_count": 49,
   "id": "9f032d7f",
   "metadata": {},
   "outputs": [
    {
     "data": {
      "text/plain": [
       "genome_tag_Id    0\n",
       "genome_tag       0\n",
       "dtype: int64"
      ]
     },
     "execution_count": 49,
     "metadata": {},
     "output_type": "execute_result"
    }
   ],
   "source": [
    "genome_tags_df.isnull().sum()"
   ]
  },
  {
   "cell_type": "code",
   "execution_count": 50,
   "id": "d03b6a73",
   "metadata": {},
   "outputs": [
    {
     "name": "stdout",
     "output_type": "stream",
     "text": [
      "<class 'pandas.core.frame.DataFrame'>\n",
      "RangeIndex: 1128 entries, 0 to 1127\n",
      "Data columns (total 2 columns):\n",
      " #   Column         Non-Null Count  Dtype \n",
      "---  ------         --------------  ----- \n",
      " 0   genome_tag_Id  1128 non-null   int64 \n",
      " 1   genome_tag     1128 non-null   object\n",
      "dtypes: int64(1), object(1)\n",
      "memory usage: 17.8+ KB\n"
     ]
    }
   ],
   "source": [
    "genome_tags_df.info()"
   ]
  },
  {
   "cell_type": "code",
   "execution_count": null,
   "id": "5eadb825",
   "metadata": {},
   "outputs": [],
   "source": []
  },
  {
   "cell_type": "code",
   "execution_count": 51,
   "id": "abefffac",
   "metadata": {},
   "outputs": [
    {
     "name": "stdout",
     "output_type": "stream",
     "text": [
      "   userId  movieId       user_tag           timestamp  year  month\n",
      "0      18     4141    mark waters 2009-04-24 18:19:40  2009      4\n",
      "1      65      208      dark hero 2013-05-10 01:41:18  2013      5\n",
      "2      65      353      dark hero 2013-05-10 01:41:19  2013      5\n",
      "3      65      521  noir thriller 2013-05-10 01:39:43  2013      5\n",
      "4      65      592      dark hero 2013-05-10 01:41:18  2013      5\n",
      "   userId  movieId  rating           timestamp  year  month\n",
      "0       1        2     3.5 2005-04-02 23:53:47  2005      4\n",
      "1       1       29     3.5 2005-04-02 23:31:16  2005      4\n",
      "2       1       32     3.5 2005-04-02 23:33:39  2005      4\n",
      "3       1       47     3.5 2005-04-02 23:32:07  2005      4\n",
      "4       1       50     3.5 2005-04-02 23:29:40  2005      4\n",
      "   movieId                               title  \\\n",
      "0        1                    Toy Story (1995)   \n",
      "1        2                      Jumanji (1995)   \n",
      "2        3             Grumpier Old Men (1995)   \n",
      "3        4            Waiting to Exhale (1995)   \n",
      "4        5  Father of the Bride Part II (1995)   \n",
      "\n",
      "                                              genres  \n",
      "0  [Adventure, Animation, Children, Comedy, Fantasy]  \n",
      "1                     [Adventure, Children, Fantasy]  \n",
      "2                                  [Comedy, Romance]  \n",
      "3                           [Comedy, Drama, Romance]  \n",
      "4                                           [Comedy]  \n",
      "   movieId  imdbId   tmdbId\n",
      "0        1  114709    862.0\n",
      "1        2  113497   8844.0\n",
      "2        3  113228  15602.0\n",
      "3        4  114885  31357.0\n",
      "4        5  113041  11862.0\n",
      "   movieId  genome_tag_Id  relevance\n",
      "0        1              1    0.02500\n",
      "1        1              2    0.02500\n",
      "2        1              3    0.05775\n",
      "3        1              4    0.09675\n",
      "4        1              5    0.14675\n",
      "   genome_tag_Id    genome_tag\n",
      "0              1           007\n",
      "1              2  007 (series)\n",
      "2              3  18th century\n",
      "3              4         1920s\n",
      "4              5         1930s\n"
     ]
    }
   ],
   "source": [
    "print(tag_df.head())\n",
    "print(rating_df.head())\n",
    "print(movie_df.head())\n",
    "print(link_df.head())\n",
    "print(genome_scores_df.head())\n",
    "print(genome_tags_df.head())"
   ]
  },
  {
   "cell_type": "code",
   "execution_count": null,
   "id": "ec109100",
   "metadata": {},
   "outputs": [],
   "source": []
  },
  {
   "cell_type": "code",
   "execution_count": 52,
   "id": "a48a62f5",
   "metadata": {},
   "outputs": [],
   "source": [
    "\n",
    "data = pd.merge(movie_df,rating_df, how='inner', on=\"movieId\")"
   ]
  },
  {
   "cell_type": "code",
   "execution_count": 53,
   "id": "769f973a",
   "metadata": {},
   "outputs": [
    {
     "data": {
      "text/html": [
       "<div>\n",
       "<style scoped>\n",
       "    .dataframe tbody tr th:only-of-type {\n",
       "        vertical-align: middle;\n",
       "    }\n",
       "\n",
       "    .dataframe tbody tr th {\n",
       "        vertical-align: top;\n",
       "    }\n",
       "\n",
       "    .dataframe thead th {\n",
       "        text-align: right;\n",
       "    }\n",
       "</style>\n",
       "<table border=\"1\" class=\"dataframe\">\n",
       "  <thead>\n",
       "    <tr style=\"text-align: right;\">\n",
       "      <th></th>\n",
       "      <th>movieId</th>\n",
       "      <th>title</th>\n",
       "      <th>genres</th>\n",
       "      <th>userId</th>\n",
       "      <th>rating</th>\n",
       "      <th>timestamp</th>\n",
       "      <th>year</th>\n",
       "      <th>month</th>\n",
       "    </tr>\n",
       "  </thead>\n",
       "  <tbody>\n",
       "    <tr>\n",
       "      <th>0</th>\n",
       "      <td>1</td>\n",
       "      <td>Toy Story (1995)</td>\n",
       "      <td>[Adventure, Animation, Children, Comedy, Fantasy]</td>\n",
       "      <td>3</td>\n",
       "      <td>4.0</td>\n",
       "      <td>1999-12-11 13:36:47</td>\n",
       "      <td>1999</td>\n",
       "      <td>12</td>\n",
       "    </tr>\n",
       "    <tr>\n",
       "      <th>1</th>\n",
       "      <td>1</td>\n",
       "      <td>Toy Story (1995)</td>\n",
       "      <td>[Adventure, Animation, Children, Comedy, Fantasy]</td>\n",
       "      <td>6</td>\n",
       "      <td>5.0</td>\n",
       "      <td>1997-03-13 17:50:52</td>\n",
       "      <td>1997</td>\n",
       "      <td>3</td>\n",
       "    </tr>\n",
       "    <tr>\n",
       "      <th>2</th>\n",
       "      <td>1</td>\n",
       "      <td>Toy Story (1995)</td>\n",
       "      <td>[Adventure, Animation, Children, Comedy, Fantasy]</td>\n",
       "      <td>8</td>\n",
       "      <td>4.0</td>\n",
       "      <td>1996-06-05 13:37:51</td>\n",
       "      <td>1996</td>\n",
       "      <td>6</td>\n",
       "    </tr>\n",
       "    <tr>\n",
       "      <th>3</th>\n",
       "      <td>1</td>\n",
       "      <td>Toy Story (1995)</td>\n",
       "      <td>[Adventure, Animation, Children, Comedy, Fantasy]</td>\n",
       "      <td>10</td>\n",
       "      <td>4.0</td>\n",
       "      <td>1999-11-25 02:44:47</td>\n",
       "      <td>1999</td>\n",
       "      <td>11</td>\n",
       "    </tr>\n",
       "    <tr>\n",
       "      <th>4</th>\n",
       "      <td>1</td>\n",
       "      <td>Toy Story (1995)</td>\n",
       "      <td>[Adventure, Animation, Children, Comedy, Fantasy]</td>\n",
       "      <td>11</td>\n",
       "      <td>4.5</td>\n",
       "      <td>2009-01-02 01:13:41</td>\n",
       "      <td>2009</td>\n",
       "      <td>1</td>\n",
       "    </tr>\n",
       "    <tr>\n",
       "      <th>...</th>\n",
       "      <td>...</td>\n",
       "      <td>...</td>\n",
       "      <td>...</td>\n",
       "      <td>...</td>\n",
       "      <td>...</td>\n",
       "      <td>...</td>\n",
       "      <td>...</td>\n",
       "      <td>...</td>\n",
       "    </tr>\n",
       "    <tr>\n",
       "      <th>20000258</th>\n",
       "      <td>131254</td>\n",
       "      <td>Kein Bund für's Leben (2007)</td>\n",
       "      <td>[Comedy]</td>\n",
       "      <td>79570</td>\n",
       "      <td>4.0</td>\n",
       "      <td>2015-03-30 19:32:59</td>\n",
       "      <td>2015</td>\n",
       "      <td>3</td>\n",
       "    </tr>\n",
       "    <tr>\n",
       "      <th>20000259</th>\n",
       "      <td>131256</td>\n",
       "      <td>Feuer, Eis &amp; Dosenbier (2002)</td>\n",
       "      <td>[Comedy]</td>\n",
       "      <td>79570</td>\n",
       "      <td>4.0</td>\n",
       "      <td>2015-03-30 19:48:08</td>\n",
       "      <td>2015</td>\n",
       "      <td>3</td>\n",
       "    </tr>\n",
       "    <tr>\n",
       "      <th>20000260</th>\n",
       "      <td>131258</td>\n",
       "      <td>The Pirates (2014)</td>\n",
       "      <td>[Adventure]</td>\n",
       "      <td>28906</td>\n",
       "      <td>2.5</td>\n",
       "      <td>2015-03-30 19:56:32</td>\n",
       "      <td>2015</td>\n",
       "      <td>3</td>\n",
       "    </tr>\n",
       "    <tr>\n",
       "      <th>20000261</th>\n",
       "      <td>131260</td>\n",
       "      <td>Rentun Ruusu (2001)</td>\n",
       "      <td>[(no genres listed)]</td>\n",
       "      <td>65409</td>\n",
       "      <td>3.0</td>\n",
       "      <td>2015-03-30 19:57:46</td>\n",
       "      <td>2015</td>\n",
       "      <td>3</td>\n",
       "    </tr>\n",
       "    <tr>\n",
       "      <th>20000262</th>\n",
       "      <td>131262</td>\n",
       "      <td>Innocence (2014)</td>\n",
       "      <td>[Adventure, Fantasy, Horror]</td>\n",
       "      <td>133047</td>\n",
       "      <td>4.0</td>\n",
       "      <td>2015-03-30 20:39:26</td>\n",
       "      <td>2015</td>\n",
       "      <td>3</td>\n",
       "    </tr>\n",
       "  </tbody>\n",
       "</table>\n",
       "<p>20000263 rows × 8 columns</p>\n",
       "</div>"
      ],
      "text/plain": [
       "          movieId                          title  \\\n",
       "0               1               Toy Story (1995)   \n",
       "1               1               Toy Story (1995)   \n",
       "2               1               Toy Story (1995)   \n",
       "3               1               Toy Story (1995)   \n",
       "4               1               Toy Story (1995)   \n",
       "...           ...                            ...   \n",
       "20000258   131254   Kein Bund für's Leben (2007)   \n",
       "20000259   131256  Feuer, Eis & Dosenbier (2002)   \n",
       "20000260   131258             The Pirates (2014)   \n",
       "20000261   131260            Rentun Ruusu (2001)   \n",
       "20000262   131262               Innocence (2014)   \n",
       "\n",
       "                                                     genres  userId  rating  \\\n",
       "0         [Adventure, Animation, Children, Comedy, Fantasy]       3     4.0   \n",
       "1         [Adventure, Animation, Children, Comedy, Fantasy]       6     5.0   \n",
       "2         [Adventure, Animation, Children, Comedy, Fantasy]       8     4.0   \n",
       "3         [Adventure, Animation, Children, Comedy, Fantasy]      10     4.0   \n",
       "4         [Adventure, Animation, Children, Comedy, Fantasy]      11     4.5   \n",
       "...                                                     ...     ...     ...   \n",
       "20000258                                           [Comedy]   79570     4.0   \n",
       "20000259                                           [Comedy]   79570     4.0   \n",
       "20000260                                        [Adventure]   28906     2.5   \n",
       "20000261                               [(no genres listed)]   65409     3.0   \n",
       "20000262                       [Adventure, Fantasy, Horror]  133047     4.0   \n",
       "\n",
       "                   timestamp  year  month  \n",
       "0        1999-12-11 13:36:47  1999     12  \n",
       "1        1997-03-13 17:50:52  1997      3  \n",
       "2        1996-06-05 13:37:51  1996      6  \n",
       "3        1999-11-25 02:44:47  1999     11  \n",
       "4        2009-01-02 01:13:41  2009      1  \n",
       "...                      ...   ...    ...  \n",
       "20000258 2015-03-30 19:32:59  2015      3  \n",
       "20000259 2015-03-30 19:48:08  2015      3  \n",
       "20000260 2015-03-30 19:56:32  2015      3  \n",
       "20000261 2015-03-30 19:57:46  2015      3  \n",
       "20000262 2015-03-30 20:39:26  2015      3  \n",
       "\n",
       "[20000263 rows x 8 columns]"
      ]
     },
     "execution_count": 53,
     "metadata": {},
     "output_type": "execute_result"
    }
   ],
   "source": [
    "data"
   ]
  },
  {
   "cell_type": "code",
   "execution_count": null,
   "id": "3abf68ee",
   "metadata": {},
   "outputs": [],
   "source": []
  },
  {
   "cell_type": "code",
   "execution_count": 54,
   "id": "544ce8b7",
   "metadata": {},
   "outputs": [
    {
     "name": "stdout",
     "output_type": "stream",
     "text": [
      "*************** Dataset Shape ***************\n",
      "No. of Rows: 20000263 \n",
      "No. of Columns: 8\n",
      "*************** Dataset Information ***************\n",
      "<class 'pandas.core.frame.DataFrame'>\n",
      "Int64Index: 20000263 entries, 0 to 20000262\n",
      "Data columns (total 8 columns):\n",
      " #   Column     Dtype         \n",
      "---  ------     -----         \n",
      " 0   movieId    int64         \n",
      " 1   title      object        \n",
      " 2   genres     object        \n",
      " 3   userId     int64         \n",
      " 4   rating     float64       \n",
      " 5   timestamp  datetime64[ns]\n",
      " 6   year       int64         \n",
      " 7   month      int64         \n",
      "dtypes: datetime64[ns](1), float64(1), int64(4), object(2)\n",
      "memory usage: 1.3+ GB\n",
      "None\n",
      "*************** Types of Columns ***************\n",
      "movieId               int64\n",
      "title                object\n",
      "genres               object\n",
      "userId                int64\n",
      "rating              float64\n",
      "timestamp    datetime64[ns]\n",
      "year                  int64\n",
      "month                 int64\n",
      "dtype: object\n",
      "*************** First 5 Rows ***************\n",
      "   movieId             title  \\\n",
      "0        1  Toy Story (1995)   \n",
      "1        1  Toy Story (1995)   \n",
      "2        1  Toy Story (1995)   \n",
      "3        1  Toy Story (1995)   \n",
      "4        1  Toy Story (1995)   \n",
      "\n",
      "                                              genres  userId  rating  \\\n",
      "0  [Adventure, Animation, Children, Comedy, Fantasy]       3     4.0   \n",
      "1  [Adventure, Animation, Children, Comedy, Fantasy]       6     5.0   \n",
      "2  [Adventure, Animation, Children, Comedy, Fantasy]       8     4.0   \n",
      "3  [Adventure, Animation, Children, Comedy, Fantasy]      10     4.0   \n",
      "4  [Adventure, Animation, Children, Comedy, Fantasy]      11     4.5   \n",
      "\n",
      "            timestamp  year  month  \n",
      "0 1999-12-11 13:36:47  1999     12  \n",
      "1 1997-03-13 17:50:52  1997      3  \n",
      "2 1996-06-05 13:37:51  1996      6  \n",
      "3 1999-11-25 02:44:47  1999     11  \n",
      "4 2009-01-02 01:13:41  2009      1  \n",
      "*************** Last 5 Rows ***************\n",
      "          movieId                          title  \\\n",
      "20000258   131254   Kein Bund für's Leben (2007)   \n",
      "20000259   131256  Feuer, Eis & Dosenbier (2002)   \n",
      "20000260   131258             The Pirates (2014)   \n",
      "20000261   131260            Rentun Ruusu (2001)   \n",
      "20000262   131262               Innocence (2014)   \n",
      "\n",
      "                                genres  userId  rating           timestamp  \\\n",
      "20000258                      [Comedy]   79570     4.0 2015-03-30 19:32:59   \n",
      "20000259                      [Comedy]   79570     4.0 2015-03-30 19:48:08   \n",
      "20000260                   [Adventure]   28906     2.5 2015-03-30 19:56:32   \n",
      "20000261          [(no genres listed)]   65409     3.0 2015-03-30 19:57:46   \n",
      "20000262  [Adventure, Fantasy, Horror]  133047     4.0 2015-03-30 20:39:26   \n",
      "\n",
      "          year  month  \n",
      "20000258  2015      3  \n",
      "20000259  2015      3  \n",
      "20000260  2015      3  \n",
      "20000261  2015      3  \n",
      "20000262  2015      3  \n",
      "*************** Summary Statistics of The Dataset ***************\n",
      "              count          mean           std     min      10%      25%  \\\n",
      "movieId  20000263.0   9041.567330  19789.477445     1.0    296.0    902.0   \n",
      "userId   20000263.0  69045.872583  40038.626653     1.0  13568.0  34395.0   \n",
      "rating   20000263.0      3.525529      1.051989     0.5      2.0      3.0   \n",
      "year     20000263.0   2004.378962      5.176947  1995.0   1997.0   2000.0   \n",
      "month    20000263.0      6.610499      3.553097     1.0      2.0      3.0   \n",
      "\n",
      "             50%      70%       80%       90%       95%       99%       max  \n",
      "movieId   2167.0   3950.0    5872.0   33794.0   59103.0   94070.0  131262.0  \n",
      "userId   69141.0  96703.0  110725.0  124479.0  131467.0  137061.0  138493.0  \n",
      "rating       3.5      4.0       4.5       5.0       5.0       5.0       5.0  \n",
      "year      2004.0   2007.0    2009.0    2012.0    2013.0    2015.0    2015.0  \n",
      "month        7.0      9.0      10.0      11.0      12.0      12.0      12.0  \n",
      "*************** Dataset Missing Values Analysis ***************\n",
      "Empty DataFrame\n",
      "Columns: [Total Missing Values, Ratio]\n",
      "Index: []\n"
     ]
    }
   ],
   "source": [
    "import numpy as np\n",
    "\n",
    "def missing_values_analysis(data):\n",
    "    na_columns = [col for col in data.columns if data[col].isnull().sum() > 0]\n",
    "    n_miss = data[na_columns].isnull().sum().sort_values(ascending=True)\n",
    "    ratio = (data[na_columns].isnull().sum() / data.shape[0] * 100).sort_values(ascending=True)\n",
    "    missing_df = pd.concat([n_miss, np.round(ratio, 2)], axis=1, keys=['Total Missing Values', 'Ratio'])\n",
    "    missing_df = pd.DataFrame(missing_df)\n",
    "    return missing_df\n",
    "\n",
    "def check_df(data, row_num=5, col_num=10):\n",
    "    print(\"*************** Dataset Shape ***************\")\n",
    "    print(\"No. of Rows:\", data.shape[0], \"\\nNo. of Columns:\", data.shape[1])\n",
    "    print(\"*************** Dataset Information ***************\")\n",
    "    print(data.info())\n",
    "    print(\"*************** Types of Columns ***************\")\n",
    "    print(data.dtypes)\n",
    "    print(f\"*************** First {row_num} Rows ***************\")\n",
    "    print(data.iloc[:row_num,:col_num])\n",
    "    print(f\"*************** Last {row_num} Rows ***************\")\n",
    "    print(data.iloc[-row_num:,:col_num])\n",
    "    print(\"*************** Summary Statistics of The Dataset ***************\")\n",
    "    print(data.describe([0.10, 0.25, 0.50, 0.70, 0.80, 0.90, 0.95, 0.99]).T)\n",
    "    print(\"*************** Dataset Missing Values Analysis ***************\")\n",
    "    print(missing_values_analysis(data))\n",
    "\n",
    "\n",
    "check_df(data)\n"
   ]
  },
  {
   "cell_type": "code",
   "execution_count": null,
   "id": "241a13b4",
   "metadata": {},
   "outputs": [],
   "source": []
  },
  {
   "cell_type": "code",
   "execution_count": 55,
   "id": "dd3214d6",
   "metadata": {},
   "outputs": [
    {
     "data": {
      "text/html": [
       "<div>\n",
       "<style scoped>\n",
       "    .dataframe tbody tr th:only-of-type {\n",
       "        vertical-align: middle;\n",
       "    }\n",
       "\n",
       "    .dataframe tbody tr th {\n",
       "        vertical-align: top;\n",
       "    }\n",
       "\n",
       "    .dataframe thead th {\n",
       "        text-align: right;\n",
       "    }\n",
       "</style>\n",
       "<table border=\"1\" class=\"dataframe\">\n",
       "  <thead>\n",
       "    <tr style=\"text-align: right;\">\n",
       "      <th></th>\n",
       "      <th>movieId</th>\n",
       "      <th>movie_title</th>\n",
       "      <th>release_year</th>\n",
       "      <th>genres</th>\n",
       "      <th>userId</th>\n",
       "      <th>rating</th>\n",
       "      <th>timestamp</th>\n",
       "      <th>year</th>\n",
       "      <th>month</th>\n",
       "    </tr>\n",
       "  </thead>\n",
       "  <tbody>\n",
       "    <tr>\n",
       "      <th>0</th>\n",
       "      <td>1</td>\n",
       "      <td>Toy Story</td>\n",
       "      <td>1995-01-01</td>\n",
       "      <td>NaN</td>\n",
       "      <td>3</td>\n",
       "      <td>4.0</td>\n",
       "      <td>1999-12-11 13:36:47</td>\n",
       "      <td>1999</td>\n",
       "      <td>12</td>\n",
       "    </tr>\n",
       "    <tr>\n",
       "      <th>1</th>\n",
       "      <td>1</td>\n",
       "      <td>Toy Story</td>\n",
       "      <td>1995-01-01</td>\n",
       "      <td>NaN</td>\n",
       "      <td>6</td>\n",
       "      <td>5.0</td>\n",
       "      <td>1997-03-13 17:50:52</td>\n",
       "      <td>1997</td>\n",
       "      <td>3</td>\n",
       "    </tr>\n",
       "    <tr>\n",
       "      <th>2</th>\n",
       "      <td>1</td>\n",
       "      <td>Toy Story</td>\n",
       "      <td>1995-01-01</td>\n",
       "      <td>NaN</td>\n",
       "      <td>8</td>\n",
       "      <td>4.0</td>\n",
       "      <td>1996-06-05 13:37:51</td>\n",
       "      <td>1996</td>\n",
       "      <td>6</td>\n",
       "    </tr>\n",
       "    <tr>\n",
       "      <th>3</th>\n",
       "      <td>1</td>\n",
       "      <td>Toy Story</td>\n",
       "      <td>1995-01-01</td>\n",
       "      <td>NaN</td>\n",
       "      <td>10</td>\n",
       "      <td>4.0</td>\n",
       "      <td>1999-11-25 02:44:47</td>\n",
       "      <td>1999</td>\n",
       "      <td>11</td>\n",
       "    </tr>\n",
       "    <tr>\n",
       "      <th>4</th>\n",
       "      <td>1</td>\n",
       "      <td>Toy Story</td>\n",
       "      <td>1995-01-01</td>\n",
       "      <td>NaN</td>\n",
       "      <td>11</td>\n",
       "      <td>4.5</td>\n",
       "      <td>2009-01-02 01:13:41</td>\n",
       "      <td>2009</td>\n",
       "      <td>1</td>\n",
       "    </tr>\n",
       "    <tr>\n",
       "      <th>...</th>\n",
       "      <td>...</td>\n",
       "      <td>...</td>\n",
       "      <td>...</td>\n",
       "      <td>...</td>\n",
       "      <td>...</td>\n",
       "      <td>...</td>\n",
       "      <td>...</td>\n",
       "      <td>...</td>\n",
       "      <td>...</td>\n",
       "    </tr>\n",
       "    <tr>\n",
       "      <th>20000258</th>\n",
       "      <td>131254</td>\n",
       "      <td>Kein Bund für's Leben</td>\n",
       "      <td>2007-01-01</td>\n",
       "      <td>NaN</td>\n",
       "      <td>79570</td>\n",
       "      <td>4.0</td>\n",
       "      <td>2015-03-30 19:32:59</td>\n",
       "      <td>2015</td>\n",
       "      <td>3</td>\n",
       "    </tr>\n",
       "    <tr>\n",
       "      <th>20000259</th>\n",
       "      <td>131256</td>\n",
       "      <td>Feuer, Eis &amp; Dosenbier</td>\n",
       "      <td>2002-01-01</td>\n",
       "      <td>NaN</td>\n",
       "      <td>79570</td>\n",
       "      <td>4.0</td>\n",
       "      <td>2015-03-30 19:48:08</td>\n",
       "      <td>2015</td>\n",
       "      <td>3</td>\n",
       "    </tr>\n",
       "    <tr>\n",
       "      <th>20000260</th>\n",
       "      <td>131258</td>\n",
       "      <td>The Pirates</td>\n",
       "      <td>2014-01-01</td>\n",
       "      <td>NaN</td>\n",
       "      <td>28906</td>\n",
       "      <td>2.5</td>\n",
       "      <td>2015-03-30 19:56:32</td>\n",
       "      <td>2015</td>\n",
       "      <td>3</td>\n",
       "    </tr>\n",
       "    <tr>\n",
       "      <th>20000261</th>\n",
       "      <td>131260</td>\n",
       "      <td>Rentun Ruusu</td>\n",
       "      <td>2001-01-01</td>\n",
       "      <td>NaN</td>\n",
       "      <td>65409</td>\n",
       "      <td>3.0</td>\n",
       "      <td>2015-03-30 19:57:46</td>\n",
       "      <td>2015</td>\n",
       "      <td>3</td>\n",
       "    </tr>\n",
       "    <tr>\n",
       "      <th>20000262</th>\n",
       "      <td>131262</td>\n",
       "      <td>Innocence</td>\n",
       "      <td>2014-01-01</td>\n",
       "      <td>NaN</td>\n",
       "      <td>133047</td>\n",
       "      <td>4.0</td>\n",
       "      <td>2015-03-30 20:39:26</td>\n",
       "      <td>2015</td>\n",
       "      <td>3</td>\n",
       "    </tr>\n",
       "  </tbody>\n",
       "</table>\n",
       "<p>20000263 rows × 9 columns</p>\n",
       "</div>"
      ],
      "text/plain": [
       "          movieId             movie_title release_year  genres  userId  \\\n",
       "0               1               Toy Story   1995-01-01     NaN       3   \n",
       "1               1               Toy Story   1995-01-01     NaN       6   \n",
       "2               1               Toy Story   1995-01-01     NaN       8   \n",
       "3               1               Toy Story   1995-01-01     NaN      10   \n",
       "4               1               Toy Story   1995-01-01     NaN      11   \n",
       "...           ...                     ...          ...     ...     ...   \n",
       "20000258   131254   Kein Bund für's Leben   2007-01-01     NaN   79570   \n",
       "20000259   131256  Feuer, Eis & Dosenbier   2002-01-01     NaN   79570   \n",
       "20000260   131258             The Pirates   2014-01-01     NaN   28906   \n",
       "20000261   131260            Rentun Ruusu   2001-01-01     NaN   65409   \n",
       "20000262   131262               Innocence   2014-01-01     NaN  133047   \n",
       "\n",
       "          rating           timestamp  year  month  \n",
       "0            4.0 1999-12-11 13:36:47  1999     12  \n",
       "1            5.0 1997-03-13 17:50:52  1997      3  \n",
       "2            4.0 1996-06-05 13:37:51  1996      6  \n",
       "3            4.0 1999-11-25 02:44:47  1999     11  \n",
       "4            4.5 2009-01-02 01:13:41  2009      1  \n",
       "...          ...                 ...   ...    ...  \n",
       "20000258     4.0 2015-03-30 19:32:59  2015      3  \n",
       "20000259     4.0 2015-03-30 19:48:08  2015      3  \n",
       "20000260     2.5 2015-03-30 19:56:32  2015      3  \n",
       "20000261     3.0 2015-03-30 19:57:46  2015      3  \n",
       "20000262     4.0 2015-03-30 20:39:26  2015      3  \n",
       "\n",
       "[20000263 rows x 9 columns]"
      ]
     },
     "execution_count": 55,
     "metadata": {},
     "output_type": "execute_result"
    }
   ],
   "source": [
    "#This dataframeis just eda purpose only\n",
    "eda_data = pd.merge(movie_df_new,rating_df, how='inner', on=\"movieId\")\n",
    "eda_data"
   ]
  },
  {
   "cell_type": "code",
   "execution_count": 56,
   "id": "e9dadb71",
   "metadata": {},
   "outputs": [
    {
     "data": {
      "text/plain": [
       "movieId                0\n",
       "movie_title            0\n",
       "release_year         405\n",
       "genres          20000263\n",
       "userId                 0\n",
       "rating                 0\n",
       "timestamp              0\n",
       "year                   0\n",
       "month                  0\n",
       "dtype: int64"
      ]
     },
     "execution_count": 56,
     "metadata": {},
     "output_type": "execute_result"
    }
   ],
   "source": [
    "eda_data.isnull().sum()"
   ]
  },
  {
   "cell_type": "code",
   "execution_count": 57,
   "id": "ceefa094",
   "metadata": {},
   "outputs": [
    {
     "data": {
      "text/plain": [
       "movie_title\n",
       "Bandaged                                    5.0\n",
       "Flight of the Conchords: A Texan Odyssey    5.0\n",
       "Divorce                                     5.0\n",
       "Sierra, La                                  5.0\n",
       "1971                                        5.0\n",
       "                                           ... \n",
       "Exit to Hell                                0.5\n",
       "Quest for a Heart (Röllin sydän)            0.5\n",
       "Excuse Me for Living                        0.5\n",
       "Rabid Grannies (Mémés cannibales, Les)      0.5\n",
       "Mega Piranha                                0.5\n",
       "Name: rating, Length: 25718, dtype: float64"
      ]
     },
     "execution_count": 57,
     "metadata": {},
     "output_type": "execute_result"
    }
   ],
   "source": [
    "\n",
    "#Explore the most-rated movies\n",
    "\n",
    "top_rated_movies = eda_data.groupby(['movie_title'])['rating'].mean().sort_values(ascending=False)\n",
    "top_rated_movies\n"
   ]
  },
  {
   "cell_type": "code",
   "execution_count": 58,
   "id": "45707582",
   "metadata": {},
   "outputs": [
    {
     "data": {
      "image/png": "[encoded data removed]",
      "text/plain": [
       "<Figure size 864x432 with 1 Axes>"
      ]
     },
     "metadata": {
      "needs_background": "light"
     },
     "output_type": "display_data"
    }
   ],
   "source": [
    "# Visualize Ratings Over the Years\n",
    "plt.figure(figsize=(12, 6))\n",
    "sns.lineplot(x='release_year', y='rating', data=eda_data.groupby('release_year')['rating'].mean().reset_index())\n",
    "plt.title('Average Ratings Over the Years')\n",
    "plt.xlabel(\"Release Year\")\n",
    "plt.ylabel(\"Average Rating\")\n",
    "plt.show()"
   ]
  },
  {
   "cell_type": "code",
   "execution_count": null,
   "id": "829ce0d8",
   "metadata": {},
   "outputs": [],
   "source": []
  },
  {
   "cell_type": "code",
   "execution_count": 59,
   "id": "84255295",
   "metadata": {},
   "outputs": [
    {
     "data": {
      "image/png": "[encoded data removed]",
      "text/plain": [
       "<Figure size 864x432 with 1 Axes>"
      ]
     },
     "metadata": {
      "needs_background": "light"
     },
     "output_type": "display_data"
    }
   ],
   "source": [
    "plt.figure(figsize=(12, 6))\n",
    "sns.barplot(x='month', y='rating', data=eda_data, ci=None, palette='coolwarm')\n",
    "plt.title('Average Ratings by Month (Bar Plot)')\n",
    "plt.xlabel(\"Month\")\n",
    "plt.ylabel(\"Average Rating\")\n",
    "plt.show()"
   ]
  },
  {
   "cell_type": "markdown",
   "id": "d6f0f438",
   "metadata": {},
   "source": []
  },
  {
   "cell_type": "code",
   "execution_count": 60,
   "id": "920dcdde",
   "metadata": {},
   "outputs": [
    {
     "data": {
      "text/html": [
       "<div>\n",
       "<style scoped>\n",
       "    .dataframe tbody tr th:only-of-type {\n",
       "        vertical-align: middle;\n",
       "    }\n",
       "\n",
       "    .dataframe tbody tr th {\n",
       "        vertical-align: top;\n",
       "    }\n",
       "\n",
       "    .dataframe thead th {\n",
       "        text-align: right;\n",
       "    }\n",
       "</style>\n",
       "<table border=\"1\" class=\"dataframe\">\n",
       "  <thead>\n",
       "    <tr style=\"text-align: right;\">\n",
       "      <th></th>\n",
       "      <th>title</th>\n",
       "      <th>num_ratings</th>\n",
       "    </tr>\n",
       "  </thead>\n",
       "  <tbody>\n",
       "    <tr>\n",
       "      <th>0</th>\n",
       "      <td>#chicagoGirl: The Social Network Takes on a Di...</td>\n",
       "      <td>3</td>\n",
       "    </tr>\n",
       "    <tr>\n",
       "      <th>1</th>\n",
       "      <td>$ (Dollars) (1971)</td>\n",
       "      <td>24</td>\n",
       "    </tr>\n",
       "    <tr>\n",
       "      <th>2</th>\n",
       "      <td>$5 a Day (2008)</td>\n",
       "      <td>39</td>\n",
       "    </tr>\n",
       "    <tr>\n",
       "      <th>3</th>\n",
       "      <td>$9.99 (2008)</td>\n",
       "      <td>55</td>\n",
       "    </tr>\n",
       "    <tr>\n",
       "      <th>4</th>\n",
       "      <td>$ellebrity (Sellebrity) (2012)</td>\n",
       "      <td>2</td>\n",
       "    </tr>\n",
       "    <tr>\n",
       "      <th>...</th>\n",
       "      <td>...</td>\n",
       "      <td>...</td>\n",
       "    </tr>\n",
       "    <tr>\n",
       "      <th>26724</th>\n",
       "      <td>À propos de Nice (1930)</td>\n",
       "      <td>4</td>\n",
       "    </tr>\n",
       "    <tr>\n",
       "      <th>26725</th>\n",
       "      <td>Árido Movie (2005)</td>\n",
       "      <td>1</td>\n",
       "    </tr>\n",
       "    <tr>\n",
       "      <th>26726</th>\n",
       "      <td>Åsa-Nisse - Wälkom to Knohult (2011)</td>\n",
       "      <td>2</td>\n",
       "    </tr>\n",
       "    <tr>\n",
       "      <th>26727</th>\n",
       "      <td>Üvegtigris (2001)</td>\n",
       "      <td>1</td>\n",
       "    </tr>\n",
       "    <tr>\n",
       "      <th>26728</th>\n",
       "      <td>貞子3D (2012)</td>\n",
       "      <td>1</td>\n",
       "    </tr>\n",
       "  </tbody>\n",
       "</table>\n",
       "<p>26729 rows × 2 columns</p>\n",
       "</div>"
      ],
      "text/plain": [
       "                                                   title  num_ratings\n",
       "0      #chicagoGirl: The Social Network Takes on a Di...            3\n",
       "1                                     $ (Dollars) (1971)           24\n",
       "2                                        $5 a Day (2008)           39\n",
       "3                                           $9.99 (2008)           55\n",
       "4                         $ellebrity (Sellebrity) (2012)            2\n",
       "...                                                  ...          ...\n",
       "26724                            À propos de Nice (1930)            4\n",
       "26725                                 Árido Movie (2005)            1\n",
       "26726               Åsa-Nisse - Wälkom to Knohult (2011)            2\n",
       "26727                                  Üvegtigris (2001)            1\n",
       "26728                                        貞子3D (2012)            1\n",
       "\n",
       "[26729 rows x 2 columns]"
      ]
     },
     "execution_count": 60,
     "metadata": {},
     "output_type": "execute_result"
    }
   ],
   "source": [
    "#checking how many votes are given to a movie\n",
    "num_rating_df = data.groupby('title').count()['rating'].reset_index()\n",
    "num_rating_df.rename(columns={'rating':'num_ratings'},inplace=True)\n",
    "num_rating_df"
   ]
  },
  {
   "cell_type": "code",
   "execution_count": null,
   "id": "6170c8eb",
   "metadata": {},
   "outputs": [],
   "source": []
  },
  {
   "cell_type": "code",
   "execution_count": 61,
   "id": "838d5cec",
   "metadata": {},
   "outputs": [
    {
     "data": {
      "text/html": [
       "<div>\n",
       "<style scoped>\n",
       "    .dataframe tbody tr th:only-of-type {\n",
       "        vertical-align: middle;\n",
       "    }\n",
       "\n",
       "    .dataframe tbody tr th {\n",
       "        vertical-align: top;\n",
       "    }\n",
       "\n",
       "    .dataframe thead th {\n",
       "        text-align: right;\n",
       "    }\n",
       "</style>\n",
       "<table border=\"1\" class=\"dataframe\">\n",
       "  <thead>\n",
       "    <tr style=\"text-align: right;\">\n",
       "      <th></th>\n",
       "      <th>title</th>\n",
       "      <th>avg_ratings</th>\n",
       "    </tr>\n",
       "  </thead>\n",
       "  <tbody>\n",
       "    <tr>\n",
       "      <th>0</th>\n",
       "      <td>#chicagoGirl: The Social Network Takes on a Di...</td>\n",
       "      <td>3.666667</td>\n",
       "    </tr>\n",
       "    <tr>\n",
       "      <th>1</th>\n",
       "      <td>$ (Dollars) (1971)</td>\n",
       "      <td>2.833333</td>\n",
       "    </tr>\n",
       "    <tr>\n",
       "      <th>2</th>\n",
       "      <td>$5 a Day (2008)</td>\n",
       "      <td>2.871795</td>\n",
       "    </tr>\n",
       "    <tr>\n",
       "      <th>3</th>\n",
       "      <td>$9.99 (2008)</td>\n",
       "      <td>3.009091</td>\n",
       "    </tr>\n",
       "    <tr>\n",
       "      <th>4</th>\n",
       "      <td>$ellebrity (Sellebrity) (2012)</td>\n",
       "      <td>2.000000</td>\n",
       "    </tr>\n",
       "    <tr>\n",
       "      <th>...</th>\n",
       "      <td>...</td>\n",
       "      <td>...</td>\n",
       "    </tr>\n",
       "    <tr>\n",
       "      <th>26724</th>\n",
       "      <td>À propos de Nice (1930)</td>\n",
       "      <td>3.125000</td>\n",
       "    </tr>\n",
       "    <tr>\n",
       "      <th>26725</th>\n",
       "      <td>Árido Movie (2005)</td>\n",
       "      <td>2.000000</td>\n",
       "    </tr>\n",
       "    <tr>\n",
       "      <th>26726</th>\n",
       "      <td>Åsa-Nisse - Wälkom to Knohult (2011)</td>\n",
       "      <td>1.500000</td>\n",
       "    </tr>\n",
       "    <tr>\n",
       "      <th>26727</th>\n",
       "      <td>Üvegtigris (2001)</td>\n",
       "      <td>3.000000</td>\n",
       "    </tr>\n",
       "    <tr>\n",
       "      <th>26728</th>\n",
       "      <td>貞子3D (2012)</td>\n",
       "      <td>1.500000</td>\n",
       "    </tr>\n",
       "  </tbody>\n",
       "</table>\n",
       "<p>26729 rows × 2 columns</p>\n",
       "</div>"
      ],
      "text/plain": [
       "                                                   title  avg_ratings\n",
       "0      #chicagoGirl: The Social Network Takes on a Di...     3.666667\n",
       "1                                     $ (Dollars) (1971)     2.833333\n",
       "2                                        $5 a Day (2008)     2.871795\n",
       "3                                           $9.99 (2008)     3.009091\n",
       "4                         $ellebrity (Sellebrity) (2012)     2.000000\n",
       "...                                                  ...          ...\n",
       "26724                            À propos de Nice (1930)     3.125000\n",
       "26725                                 Árido Movie (2005)     2.000000\n",
       "26726               Åsa-Nisse - Wälkom to Knohult (2011)     1.500000\n",
       "26727                                  Üvegtigris (2001)     3.000000\n",
       "26728                                        貞子3D (2012)     1.500000\n",
       "\n",
       "[26729 rows x 2 columns]"
      ]
     },
     "execution_count": 61,
     "metadata": {},
     "output_type": "execute_result"
    }
   ],
   "source": [
    "#checking for average rating addition of all ratings divided by total no. of ratings\n",
    "avg_rating_df = data.groupby('title')['rating'].mean().reset_index()\n",
    "avg_rating_df.rename(columns={'rating':'avg_ratings'}, inplace=True)\n",
    "avg_rating_df"
   ]
  },
  {
   "cell_type": "code",
   "execution_count": 62,
   "id": "ae558263",
   "metadata": {},
   "outputs": [
    {
     "data": {
      "text/html": [
       "<div>\n",
       "<style scoped>\n",
       "    .dataframe tbody tr th:only-of-type {\n",
       "        vertical-align: middle;\n",
       "    }\n",
       "\n",
       "    .dataframe tbody tr th {\n",
       "        vertical-align: top;\n",
       "    }\n",
       "\n",
       "    .dataframe thead th {\n",
       "        text-align: right;\n",
       "    }\n",
       "</style>\n",
       "<table border=\"1\" class=\"dataframe\">\n",
       "  <thead>\n",
       "    <tr style=\"text-align: right;\">\n",
       "      <th></th>\n",
       "      <th>title</th>\n",
       "      <th>avg_ratings</th>\n",
       "    </tr>\n",
       "  </thead>\n",
       "  <tbody>\n",
       "    <tr>\n",
       "      <th>0</th>\n",
       "      <td>#chicagoGirl: The Social Network Takes on a Di...</td>\n",
       "      <td>3.666667</td>\n",
       "    </tr>\n",
       "    <tr>\n",
       "      <th>1</th>\n",
       "      <td>$ (Dollars) (1971)</td>\n",
       "      <td>2.833333</td>\n",
       "    </tr>\n",
       "    <tr>\n",
       "      <th>2</th>\n",
       "      <td>$5 a Day (2008)</td>\n",
       "      <td>2.871795</td>\n",
       "    </tr>\n",
       "    <tr>\n",
       "      <th>3</th>\n",
       "      <td>$9.99 (2008)</td>\n",
       "      <td>3.009091</td>\n",
       "    </tr>\n",
       "    <tr>\n",
       "      <th>4</th>\n",
       "      <td>$ellebrity (Sellebrity) (2012)</td>\n",
       "      <td>2.000000</td>\n",
       "    </tr>\n",
       "    <tr>\n",
       "      <th>...</th>\n",
       "      <td>...</td>\n",
       "      <td>...</td>\n",
       "    </tr>\n",
       "    <tr>\n",
       "      <th>26724</th>\n",
       "      <td>À propos de Nice (1930)</td>\n",
       "      <td>3.125000</td>\n",
       "    </tr>\n",
       "    <tr>\n",
       "      <th>26725</th>\n",
       "      <td>Árido Movie (2005)</td>\n",
       "      <td>2.000000</td>\n",
       "    </tr>\n",
       "    <tr>\n",
       "      <th>26726</th>\n",
       "      <td>Åsa-Nisse - Wälkom to Knohult (2011)</td>\n",
       "      <td>1.500000</td>\n",
       "    </tr>\n",
       "    <tr>\n",
       "      <th>26727</th>\n",
       "      <td>Üvegtigris (2001)</td>\n",
       "      <td>3.000000</td>\n",
       "    </tr>\n",
       "    <tr>\n",
       "      <th>26728</th>\n",
       "      <td>貞子3D (2012)</td>\n",
       "      <td>1.500000</td>\n",
       "    </tr>\n",
       "  </tbody>\n",
       "</table>\n",
       "<p>26729 rows × 2 columns</p>\n",
       "</div>"
      ],
      "text/plain": [
       "                                                   title  avg_ratings\n",
       "0      #chicagoGirl: The Social Network Takes on a Di...     3.666667\n",
       "1                                     $ (Dollars) (1971)     2.833333\n",
       "2                                        $5 a Day (2008)     2.871795\n",
       "3                                           $9.99 (2008)     3.009091\n",
       "4                         $ellebrity (Sellebrity) (2012)     2.000000\n",
       "...                                                  ...          ...\n",
       "26724                            À propos de Nice (1930)     3.125000\n",
       "26725                                 Árido Movie (2005)     2.000000\n",
       "26726               Åsa-Nisse - Wälkom to Knohult (2011)     1.500000\n",
       "26727                                  Üvegtigris (2001)     3.000000\n",
       "26728                                        貞子3D (2012)     1.500000\n",
       "\n",
       "[26729 rows x 2 columns]"
      ]
     },
     "execution_count": 62,
     "metadata": {},
     "output_type": "execute_result"
    }
   ],
   "source": [
    "#checking for average rating addition of all ratings divided by total no. of ratings\n",
    "avg_rating_df = data.groupby('title')['rating'].mean().reset_index()\n",
    "avg_rating_df.rename(columns={'rating':'avg_ratings'}, inplace=True)\n",
    "avg_rating_df"
   ]
  },
  {
   "cell_type": "code",
   "execution_count": 63,
   "id": "3262f48d",
   "metadata": {},
   "outputs": [
    {
     "data": {
      "text/html": [
       "<div>\n",
       "<style scoped>\n",
       "    .dataframe tbody tr th:only-of-type {\n",
       "        vertical-align: middle;\n",
       "    }\n",
       "\n",
       "    .dataframe tbody tr th {\n",
       "        vertical-align: top;\n",
       "    }\n",
       "\n",
       "    .dataframe thead th {\n",
       "        text-align: right;\n",
       "    }\n",
       "</style>\n",
       "<table border=\"1\" class=\"dataframe\">\n",
       "  <thead>\n",
       "    <tr style=\"text-align: right;\">\n",
       "      <th></th>\n",
       "      <th>title</th>\n",
       "      <th>num_ratings</th>\n",
       "      <th>avg_ratings</th>\n",
       "    </tr>\n",
       "  </thead>\n",
       "  <tbody>\n",
       "    <tr>\n",
       "      <th>0</th>\n",
       "      <td>#chicagoGirl: The Social Network Takes on a Di...</td>\n",
       "      <td>3</td>\n",
       "      <td>3.666667</td>\n",
       "    </tr>\n",
       "    <tr>\n",
       "      <th>1</th>\n",
       "      <td>$ (Dollars) (1971)</td>\n",
       "      <td>24</td>\n",
       "      <td>2.833333</td>\n",
       "    </tr>\n",
       "    <tr>\n",
       "      <th>2</th>\n",
       "      <td>$5 a Day (2008)</td>\n",
       "      <td>39</td>\n",
       "      <td>2.871795</td>\n",
       "    </tr>\n",
       "    <tr>\n",
       "      <th>3</th>\n",
       "      <td>$9.99 (2008)</td>\n",
       "      <td>55</td>\n",
       "      <td>3.009091</td>\n",
       "    </tr>\n",
       "    <tr>\n",
       "      <th>4</th>\n",
       "      <td>$ellebrity (Sellebrity) (2012)</td>\n",
       "      <td>2</td>\n",
       "      <td>2.000000</td>\n",
       "    </tr>\n",
       "    <tr>\n",
       "      <th>...</th>\n",
       "      <td>...</td>\n",
       "      <td>...</td>\n",
       "      <td>...</td>\n",
       "    </tr>\n",
       "    <tr>\n",
       "      <th>26724</th>\n",
       "      <td>À propos de Nice (1930)</td>\n",
       "      <td>4</td>\n",
       "      <td>3.125000</td>\n",
       "    </tr>\n",
       "    <tr>\n",
       "      <th>26725</th>\n",
       "      <td>Árido Movie (2005)</td>\n",
       "      <td>1</td>\n",
       "      <td>2.000000</td>\n",
       "    </tr>\n",
       "    <tr>\n",
       "      <th>26726</th>\n",
       "      <td>Åsa-Nisse - Wälkom to Knohult (2011)</td>\n",
       "      <td>2</td>\n",
       "      <td>1.500000</td>\n",
       "    </tr>\n",
       "    <tr>\n",
       "      <th>26727</th>\n",
       "      <td>Üvegtigris (2001)</td>\n",
       "      <td>1</td>\n",
       "      <td>3.000000</td>\n",
       "    </tr>\n",
       "    <tr>\n",
       "      <th>26728</th>\n",
       "      <td>貞子3D (2012)</td>\n",
       "      <td>1</td>\n",
       "      <td>1.500000</td>\n",
       "    </tr>\n",
       "  </tbody>\n",
       "</table>\n",
       "<p>26729 rows × 3 columns</p>\n",
       "</div>"
      ],
      "text/plain": [
       "                                                   title  num_ratings  \\\n",
       "0      #chicagoGirl: The Social Network Takes on a Di...            3   \n",
       "1                                     $ (Dollars) (1971)           24   \n",
       "2                                        $5 a Day (2008)           39   \n",
       "3                                           $9.99 (2008)           55   \n",
       "4                         $ellebrity (Sellebrity) (2012)            2   \n",
       "...                                                  ...          ...   \n",
       "26724                            À propos de Nice (1930)            4   \n",
       "26725                                 Árido Movie (2005)            1   \n",
       "26726               Åsa-Nisse - Wälkom to Knohult (2011)            2   \n",
       "26727                                  Üvegtigris (2001)            1   \n",
       "26728                                        貞子3D (2012)            1   \n",
       "\n",
       "       avg_ratings  \n",
       "0         3.666667  \n",
       "1         2.833333  \n",
       "2         2.871795  \n",
       "3         3.009091  \n",
       "4         2.000000  \n",
       "...            ...  \n",
       "26724     3.125000  \n",
       "26725     2.000000  \n",
       "26726     1.500000  \n",
       "26727     3.000000  \n",
       "26728     1.500000  \n",
       "\n",
       "[26729 rows x 3 columns]"
      ]
     },
     "execution_count": 63,
     "metadata": {},
     "output_type": "execute_result"
    }
   ],
   "source": [
    "popular_movies_df = num_rating_df.merge(avg_rating_df,on='title')\n",
    "popular_movies_df"
   ]
  },
  {
   "cell_type": "code",
   "execution_count": 64,
   "id": "b9766c4c",
   "metadata": {},
   "outputs": [
    {
     "data": {
      "text/html": [
       "<div>\n",
       "<style scoped>\n",
       "    .dataframe tbody tr th:only-of-type {\n",
       "        vertical-align: middle;\n",
       "    }\n",
       "\n",
       "    .dataframe tbody tr th {\n",
       "        vertical-align: top;\n",
       "    }\n",
       "\n",
       "    .dataframe thead th {\n",
       "        text-align: right;\n",
       "    }\n",
       "</style>\n",
       "<table border=\"1\" class=\"dataframe\">\n",
       "  <thead>\n",
       "    <tr style=\"text-align: right;\">\n",
       "      <th></th>\n",
       "      <th>title</th>\n",
       "      <th>num_ratings</th>\n",
       "      <th>avg_ratings</th>\n",
       "    </tr>\n",
       "  </thead>\n",
       "  <tbody>\n",
       "    <tr>\n",
       "      <th>20779</th>\n",
       "      <td>Shawshank Redemption, The (1994)</td>\n",
       "      <td>63366</td>\n",
       "      <td>4.446990</td>\n",
       "    </tr>\n",
       "    <tr>\n",
       "      <th>9586</th>\n",
       "      <td>Godfather, The (1972)</td>\n",
       "      <td>41355</td>\n",
       "      <td>4.364732</td>\n",
       "    </tr>\n",
       "    <tr>\n",
       "      <th>24967</th>\n",
       "      <td>Usual Suspects, The (1995)</td>\n",
       "      <td>47006</td>\n",
       "      <td>4.334372</td>\n",
       "    </tr>\n",
       "    <tr>\n",
       "      <th>20317</th>\n",
       "      <td>Schindler's List (1993)</td>\n",
       "      <td>50054</td>\n",
       "      <td>4.310175</td>\n",
       "    </tr>\n",
       "    <tr>\n",
       "      <th>9587</th>\n",
       "      <td>Godfather: Part II, The (1974)</td>\n",
       "      <td>27398</td>\n",
       "      <td>4.275641</td>\n",
       "    </tr>\n",
       "    <tr>\n",
       "      <th>20600</th>\n",
       "      <td>Seven Samurai (Shichinin no samurai) (1954)</td>\n",
       "      <td>11611</td>\n",
       "      <td>4.274180</td>\n",
       "    </tr>\n",
       "    <tr>\n",
       "      <th>19203</th>\n",
       "      <td>Rear Window (1954)</td>\n",
       "      <td>17449</td>\n",
       "      <td>4.271334</td>\n",
       "    </tr>\n",
       "    <tr>\n",
       "      <th>2072</th>\n",
       "      <td>Band of Brothers (2001)</td>\n",
       "      <td>4305</td>\n",
       "      <td>4.263182</td>\n",
       "    </tr>\n",
       "    <tr>\n",
       "      <th>4236</th>\n",
       "      <td>Casablanca (1942)</td>\n",
       "      <td>24349</td>\n",
       "      <td>4.258327</td>\n",
       "    </tr>\n",
       "    <tr>\n",
       "      <th>22420</th>\n",
       "      <td>Sunset Blvd. (a.k.a. Sunset Boulevard) (1950)</td>\n",
       "      <td>6525</td>\n",
       "      <td>4.256935</td>\n",
       "    </tr>\n",
       "    <tr>\n",
       "      <th>17322</th>\n",
       "      <td>One Flew Over the Cuckoo's Nest (1975)</td>\n",
       "      <td>29932</td>\n",
       "      <td>4.248079</td>\n",
       "    </tr>\n",
       "    <tr>\n",
       "      <th>6973</th>\n",
       "      <td>Dr. Strangelove or: How I Learned to Stop Worr...</td>\n",
       "      <td>23220</td>\n",
       "      <td>4.247287</td>\n",
       "    </tr>\n",
       "    <tr>\n",
       "      <th>23734</th>\n",
       "      <td>Third Man, The (1949)</td>\n",
       "      <td>6565</td>\n",
       "      <td>4.246002</td>\n",
       "    </tr>\n",
       "    <tr>\n",
       "      <th>4846</th>\n",
       "      <td>City of God (Cidade de Deus) (2002)</td>\n",
       "      <td>12937</td>\n",
       "      <td>4.235410</td>\n",
       "    </tr>\n",
       "    <tr>\n",
       "      <th>14074</th>\n",
       "      <td>Lives of Others, The (Das leben der Anderen) (...</td>\n",
       "      <td>5720</td>\n",
       "      <td>4.234790</td>\n",
       "    </tr>\n",
       "    <tr>\n",
       "      <th>16957</th>\n",
       "      <td>North by Northwest (1959)</td>\n",
       "      <td>15627</td>\n",
       "      <td>4.233538</td>\n",
       "    </tr>\n",
       "    <tr>\n",
       "      <th>17880</th>\n",
       "      <td>Paths of Glory (1957)</td>\n",
       "      <td>3568</td>\n",
       "      <td>4.232623</td>\n",
       "    </tr>\n",
       "    <tr>\n",
       "      <th>8250</th>\n",
       "      <td>Fight Club (1999)</td>\n",
       "      <td>40106</td>\n",
       "      <td>4.227123</td>\n",
       "    </tr>\n",
       "    <tr>\n",
       "      <th>6896</th>\n",
       "      <td>Double Indemnity (1944)</td>\n",
       "      <td>4909</td>\n",
       "      <td>4.224282</td>\n",
       "    </tr>\n",
       "    <tr>\n",
       "      <th>78</th>\n",
       "      <td>12 Angry Men (1957)</td>\n",
       "      <td>12934</td>\n",
       "      <td>4.224138</td>\n",
       "    </tr>\n",
       "    <tr>\n",
       "      <th>5380</th>\n",
       "      <td>Cosmos (1980)</td>\n",
       "      <td>936</td>\n",
       "      <td>4.220620</td>\n",
       "    </tr>\n",
       "    <tr>\n",
       "      <th>5913</th>\n",
       "      <td>Dark Knight, The (2008)</td>\n",
       "      <td>20438</td>\n",
       "      <td>4.220129</td>\n",
       "    </tr>\n",
       "    <tr>\n",
       "      <th>19072</th>\n",
       "      <td>Raiders of the Lost Ark (Indiana Jones and the...</td>\n",
       "      <td>43295</td>\n",
       "      <td>4.219009</td>\n",
       "    </tr>\n",
       "    <tr>\n",
       "      <th>26476</th>\n",
       "      <td>Yojimbo (1961)</td>\n",
       "      <td>3559</td>\n",
       "      <td>4.211717</td>\n",
       "    </tr>\n",
       "    <tr>\n",
       "      <th>2725</th>\n",
       "      <td>Big Sleep, The (1946)</td>\n",
       "      <td>5529</td>\n",
       "      <td>4.207361</td>\n",
       "    </tr>\n",
       "    <tr>\n",
       "      <th>919</th>\n",
       "      <td>All About Eve (1950)</td>\n",
       "      <td>4826</td>\n",
       "      <td>4.204103</td>\n",
       "    </tr>\n",
       "    <tr>\n",
       "      <th>21730</th>\n",
       "      <td>Spirited Away (Sen to Chihiro no kamikakushi) ...</td>\n",
       "      <td>13466</td>\n",
       "      <td>4.203810</td>\n",
       "    </tr>\n",
       "    <tr>\n",
       "      <th>4666</th>\n",
       "      <td>Chinatown (1974)</td>\n",
       "      <td>15310</td>\n",
       "      <td>4.199673</td>\n",
       "    </tr>\n",
       "    <tr>\n",
       "      <th>17018</th>\n",
       "      <td>Notorious (1946)</td>\n",
       "      <td>4932</td>\n",
       "      <td>4.197790</td>\n",
       "    </tr>\n",
       "    <tr>\n",
       "      <th>1087</th>\n",
       "      <td>Amelie (Fabuleux destin d'Amélie Poulain, Le) ...</td>\n",
       "      <td>24349</td>\n",
       "      <td>4.197072</td>\n",
       "    </tr>\n",
       "    <tr>\n",
       "      <th>14574</th>\n",
       "      <td>M (1931)</td>\n",
       "      <td>4232</td>\n",
       "      <td>4.193171</td>\n",
       "    </tr>\n",
       "    <tr>\n",
       "      <th>21871</th>\n",
       "      <td>Star Wars: Episode IV - A New Hope (1977)</td>\n",
       "      <td>54502</td>\n",
       "      <td>4.190672</td>\n",
       "    </tr>\n",
       "    <tr>\n",
       "      <th>24057</th>\n",
       "      <td>To Kill a Mockingbird (1962)</td>\n",
       "      <td>14769</td>\n",
       "      <td>4.188943</td>\n",
       "    </tr>\n",
       "    <tr>\n",
       "      <th>21872</th>\n",
       "      <td>Star Wars: Episode V - The Empire Strikes Back...</td>\n",
       "      <td>45313</td>\n",
       "      <td>4.188202</td>\n",
       "    </tr>\n",
       "    <tr>\n",
       "      <th>14797</th>\n",
       "      <td>Maltese Falcon, The (1941)</td>\n",
       "      <td>12144</td>\n",
       "      <td>4.187212</td>\n",
       "    </tr>\n",
       "    <tr>\n",
       "      <th>15186</th>\n",
       "      <td>Matrix, The (1999)</td>\n",
       "      <td>51334</td>\n",
       "      <td>4.187186</td>\n",
       "    </tr>\n",
       "    <tr>\n",
       "      <th>23712</th>\n",
       "      <td>Thin Man, The (1934)</td>\n",
       "      <td>3358</td>\n",
       "      <td>4.184187</td>\n",
       "    </tr>\n",
       "    <tr>\n",
       "      <th>9771</th>\n",
       "      <td>Goodfellas (1990)</td>\n",
       "      <td>26406</td>\n",
       "      <td>4.183633</td>\n",
       "    </tr>\n",
       "    <tr>\n",
       "      <th>24221</th>\n",
       "      <td>Touch of Evil (1958)</td>\n",
       "      <td>4718</td>\n",
       "      <td>4.183022</td>\n",
       "    </tr>\n",
       "    <tr>\n",
       "      <th>2903</th>\n",
       "      <td>Black Mirror (2011)</td>\n",
       "      <td>582</td>\n",
       "      <td>4.182990</td>\n",
       "    </tr>\n",
       "    <tr>\n",
       "      <th>25376</th>\n",
       "      <td>Wallace &amp; Gromit: The Wrong Trousers (1993)</td>\n",
       "      <td>15022</td>\n",
       "      <td>4.181068</td>\n",
       "    </tr>\n",
       "    <tr>\n",
       "      <th>15318</th>\n",
       "      <td>Memento (2000)</td>\n",
       "      <td>30443</td>\n",
       "      <td>4.178547</td>\n",
       "    </tr>\n",
       "    <tr>\n",
       "      <th>20994</th>\n",
       "      <td>Silence of the Lambs, The (1991)</td>\n",
       "      <td>63299</td>\n",
       "      <td>4.177057</td>\n",
       "    </tr>\n",
       "    <tr>\n",
       "      <th>18648</th>\n",
       "      <td>Princess Bride, The (1987)</td>\n",
       "      <td>32586</td>\n",
       "      <td>4.176732</td>\n",
       "    </tr>\n",
       "    <tr>\n",
       "      <th>19143</th>\n",
       "      <td>Rashomon (Rashômon) (1950)</td>\n",
       "      <td>3712</td>\n",
       "      <td>4.176724</td>\n",
       "    </tr>\n",
       "    <tr>\n",
       "      <th>13828</th>\n",
       "      <td>Life Is Beautiful (La Vita è bella) (1997)</td>\n",
       "      <td>18156</td>\n",
       "      <td>4.175837</td>\n",
       "    </tr>\n",
       "    <tr>\n",
       "      <th>18824</th>\n",
       "      <td>Pulp Fiction (1994)</td>\n",
       "      <td>67310</td>\n",
       "      <td>4.174231</td>\n",
       "    </tr>\n",
       "    <tr>\n",
       "      <th>15824</th>\n",
       "      <td>Monty Python and the Holy Grail (1975)</td>\n",
       "      <td>33024</td>\n",
       "      <td>4.174146</td>\n",
       "    </tr>\n",
       "    <tr>\n",
       "      <th>6246</th>\n",
       "      <td>Decalogue, The (Dekalog) (1989)</td>\n",
       "      <td>402</td>\n",
       "      <td>4.174129</td>\n",
       "    </tr>\n",
       "    <tr>\n",
       "      <th>4832</th>\n",
       "      <td>City Lights (1931)</td>\n",
       "      <td>2593</td>\n",
       "      <td>4.174123</td>\n",
       "    </tr>\n",
       "  </tbody>\n",
       "</table>\n",
       "</div>"
      ],
      "text/plain": [
       "                                                   title  num_ratings  \\\n",
       "20779                   Shawshank Redemption, The (1994)        63366   \n",
       "9586                               Godfather, The (1972)        41355   \n",
       "24967                         Usual Suspects, The (1995)        47006   \n",
       "20317                            Schindler's List (1993)        50054   \n",
       "9587                      Godfather: Part II, The (1974)        27398   \n",
       "20600        Seven Samurai (Shichinin no samurai) (1954)        11611   \n",
       "19203                                 Rear Window (1954)        17449   \n",
       "2072                             Band of Brothers (2001)         4305   \n",
       "4236                                   Casablanca (1942)        24349   \n",
       "22420      Sunset Blvd. (a.k.a. Sunset Boulevard) (1950)         6525   \n",
       "17322             One Flew Over the Cuckoo's Nest (1975)        29932   \n",
       "6973   Dr. Strangelove or: How I Learned to Stop Worr...        23220   \n",
       "23734                              Third Man, The (1949)         6565   \n",
       "4846                 City of God (Cidade de Deus) (2002)        12937   \n",
       "14074  Lives of Others, The (Das leben der Anderen) (...         5720   \n",
       "16957                          North by Northwest (1959)        15627   \n",
       "17880                              Paths of Glory (1957)         3568   \n",
       "8250                                   Fight Club (1999)        40106   \n",
       "6896                             Double Indemnity (1944)         4909   \n",
       "78                                   12 Angry Men (1957)        12934   \n",
       "5380                                       Cosmos (1980)          936   \n",
       "5913                             Dark Knight, The (2008)        20438   \n",
       "19072  Raiders of the Lost Ark (Indiana Jones and the...        43295   \n",
       "26476                                     Yojimbo (1961)         3559   \n",
       "2725                               Big Sleep, The (1946)         5529   \n",
       "919                                 All About Eve (1950)         4826   \n",
       "21730  Spirited Away (Sen to Chihiro no kamikakushi) ...        13466   \n",
       "4666                                    Chinatown (1974)        15310   \n",
       "17018                                   Notorious (1946)         4932   \n",
       "1087   Amelie (Fabuleux destin d'Amélie Poulain, Le) ...        24349   \n",
       "14574                                           M (1931)         4232   \n",
       "21871          Star Wars: Episode IV - A New Hope (1977)        54502   \n",
       "24057                       To Kill a Mockingbird (1962)        14769   \n",
       "21872  Star Wars: Episode V - The Empire Strikes Back...        45313   \n",
       "14797                         Maltese Falcon, The (1941)        12144   \n",
       "15186                                 Matrix, The (1999)        51334   \n",
       "23712                               Thin Man, The (1934)         3358   \n",
       "9771                                   Goodfellas (1990)        26406   \n",
       "24221                               Touch of Evil (1958)         4718   \n",
       "2903                                 Black Mirror (2011)          582   \n",
       "25376        Wallace & Gromit: The Wrong Trousers (1993)        15022   \n",
       "15318                                     Memento (2000)        30443   \n",
       "20994                   Silence of the Lambs, The (1991)        63299   \n",
       "18648                         Princess Bride, The (1987)        32586   \n",
       "19143                         Rashomon (Rashômon) (1950)         3712   \n",
       "13828         Life Is Beautiful (La Vita è bella) (1997)        18156   \n",
       "18824                                Pulp Fiction (1994)        67310   \n",
       "15824             Monty Python and the Holy Grail (1975)        33024   \n",
       "6246                     Decalogue, The (Dekalog) (1989)          402   \n",
       "4832                                  City Lights (1931)         2593   \n",
       "\n",
       "       avg_ratings  \n",
       "20779     4.446990  \n",
       "9586      4.364732  \n",
       "24967     4.334372  \n",
       "20317     4.310175  \n",
       "9587      4.275641  \n",
       "20600     4.274180  \n",
       "19203     4.271334  \n",
       "2072      4.263182  \n",
       "4236      4.258327  \n",
       "22420     4.256935  \n",
       "17322     4.248079  \n",
       "6973      4.247287  \n",
       "23734     4.246002  \n",
       "4846      4.235410  \n",
       "14074     4.234790  \n",
       "16957     4.233538  \n",
       "17880     4.232623  \n",
       "8250      4.227123  \n",
       "6896      4.224282  \n",
       "78        4.224138  \n",
       "5380      4.220620  \n",
       "5913      4.220129  \n",
       "19072     4.219009  \n",
       "26476     4.211717  \n",
       "2725      4.207361  \n",
       "919       4.204103  \n",
       "21730     4.203810  \n",
       "4666      4.199673  \n",
       "17018     4.197790  \n",
       "1087      4.197072  \n",
       "14574     4.193171  \n",
       "21871     4.190672  \n",
       "24057     4.188943  \n",
       "21872     4.188202  \n",
       "14797     4.187212  \n",
       "15186     4.187186  \n",
       "23712     4.184187  \n",
       "9771      4.183633  \n",
       "24221     4.183022  \n",
       "2903      4.182990  \n",
       "25376     4.181068  \n",
       "15318     4.178547  \n",
       "20994     4.177057  \n",
       "18648     4.176732  \n",
       "19143     4.176724  \n",
       "13828     4.175837  \n",
       "18824     4.174231  \n",
       "15824     4.174146  \n",
       "6246      4.174129  \n",
       "4832      4.174123  "
      ]
     },
     "execution_count": 64,
     "metadata": {},
     "output_type": "execute_result"
    }
   ],
   "source": [
    "#only keeping the movies which has ratings above 300\n",
    "popular_movies_df = popular_movies_df[popular_movies_df['num_ratings']>=300].sort_values('avg_ratings',ascending=False).head(50)\n",
    "popular_movies_df.merge(movie_df,on='title').drop_duplicates('title').shape\n",
    "\n",
    "popular_movies_df"
   ]
  },
  {
   "cell_type": "code",
   "execution_count": 65,
   "id": "46aa9c35",
   "metadata": {},
   "outputs": [
    {
     "data": {
      "text/html": [
       "<div>\n",
       "<style scoped>\n",
       "    .dataframe tbody tr th:only-of-type {\n",
       "        vertical-align: middle;\n",
       "    }\n",
       "\n",
       "    .dataframe tbody tr th {\n",
       "        vertical-align: top;\n",
       "    }\n",
       "\n",
       "    .dataframe thead th {\n",
       "        text-align: right;\n",
       "    }\n",
       "</style>\n",
       "<table border=\"1\" class=\"dataframe\">\n",
       "  <thead>\n",
       "    <tr style=\"text-align: right;\">\n",
       "      <th></th>\n",
       "      <th>title</th>\n",
       "      <th>num_ratings</th>\n",
       "      <th>avg_ratings</th>\n",
       "    </tr>\n",
       "  </thead>\n",
       "  <tbody>\n",
       "    <tr>\n",
       "      <th>20779</th>\n",
       "      <td>Shawshank Redemption, The (1994)</td>\n",
       "      <td>63366</td>\n",
       "      <td>4.446990</td>\n",
       "    </tr>\n",
       "    <tr>\n",
       "      <th>9586</th>\n",
       "      <td>Godfather, The (1972)</td>\n",
       "      <td>41355</td>\n",
       "      <td>4.364732</td>\n",
       "    </tr>\n",
       "    <tr>\n",
       "      <th>24967</th>\n",
       "      <td>Usual Suspects, The (1995)</td>\n",
       "      <td>47006</td>\n",
       "      <td>4.334372</td>\n",
       "    </tr>\n",
       "    <tr>\n",
       "      <th>20317</th>\n",
       "      <td>Schindler's List (1993)</td>\n",
       "      <td>50054</td>\n",
       "      <td>4.310175</td>\n",
       "    </tr>\n",
       "    <tr>\n",
       "      <th>9587</th>\n",
       "      <td>Godfather: Part II, The (1974)</td>\n",
       "      <td>27398</td>\n",
       "      <td>4.275641</td>\n",
       "    </tr>\n",
       "    <tr>\n",
       "      <th>20600</th>\n",
       "      <td>Seven Samurai (Shichinin no samurai) (1954)</td>\n",
       "      <td>11611</td>\n",
       "      <td>4.274180</td>\n",
       "    </tr>\n",
       "    <tr>\n",
       "      <th>19203</th>\n",
       "      <td>Rear Window (1954)</td>\n",
       "      <td>17449</td>\n",
       "      <td>4.271334</td>\n",
       "    </tr>\n",
       "    <tr>\n",
       "      <th>2072</th>\n",
       "      <td>Band of Brothers (2001)</td>\n",
       "      <td>4305</td>\n",
       "      <td>4.263182</td>\n",
       "    </tr>\n",
       "    <tr>\n",
       "      <th>4236</th>\n",
       "      <td>Casablanca (1942)</td>\n",
       "      <td>24349</td>\n",
       "      <td>4.258327</td>\n",
       "    </tr>\n",
       "    <tr>\n",
       "      <th>22420</th>\n",
       "      <td>Sunset Blvd. (a.k.a. Sunset Boulevard) (1950)</td>\n",
       "      <td>6525</td>\n",
       "      <td>4.256935</td>\n",
       "    </tr>\n",
       "  </tbody>\n",
       "</table>\n",
       "</div>"
      ],
      "text/plain": [
       "                                               title  num_ratings  avg_ratings\n",
       "20779               Shawshank Redemption, The (1994)        63366     4.446990\n",
       "9586                           Godfather, The (1972)        41355     4.364732\n",
       "24967                     Usual Suspects, The (1995)        47006     4.334372\n",
       "20317                        Schindler's List (1993)        50054     4.310175\n",
       "9587                  Godfather: Part II, The (1974)        27398     4.275641\n",
       "20600    Seven Samurai (Shichinin no samurai) (1954)        11611     4.274180\n",
       "19203                             Rear Window (1954)        17449     4.271334\n",
       "2072                         Band of Brothers (2001)         4305     4.263182\n",
       "4236                               Casablanca (1942)        24349     4.258327\n",
       "22420  Sunset Blvd. (a.k.a. Sunset Boulevard) (1950)         6525     4.256935"
      ]
     },
     "execution_count": 65,
     "metadata": {},
     "output_type": "execute_result"
    }
   ],
   "source": [
    "#Top 10 movies \n",
    "popular_movies_df.head(10)"
   ]
  },
  {
   "cell_type": "code",
   "execution_count": 66,
   "id": "6852a0ba",
   "metadata": {},
   "outputs": [
    {
     "data": {
      "image/png": "[encoded data removed]",
      "text/plain": [
       "<Figure size 864x576 with 2 Axes>"
      ]
     },
     "metadata": {
      "needs_background": "light"
     },
     "output_type": "display_data"
    }
   ],
   "source": [
    "# Select the top 50 movies with the highest average ratings\n",
    "top_50_movies = popular_movies_df.head(50)\n",
    "\n",
    "# Create a scatter plot\n",
    "plt.figure(figsize=(12, 8))\n",
    "scatter = plt.scatter(top_50_movies['avg_ratings'], top_50_movies.index, c=top_50_movies.index, cmap='cool', s=50)\n",
    "plt.xlabel('Average Ratings')\n",
    "plt.title('Top 50 Movies with the Highest Average Ratings (Scatter Plot)')\n",
    "plt.gca().invert_yaxis()  # Invert the y-axis to show the highest rating at the top\n",
    "plt.colorbar(label='Movie Index', orientation='vertical')\n",
    "\n",
    "plt.show()"
   ]
  },
  {
   "cell_type": "code",
   "execution_count": 69,
   "id": "fa03806f",
   "metadata": {},
   "outputs": [
    {
     "name": "stdout",
     "output_type": "stream",
     "text": [
      "Collecting torch\n",
      "  Downloading torch-2.1.1-cp39-none-macosx_10_9_x86_64.whl.metadata (25 kB)\n",
      "Collecting torchvision\n",
      "  Downloading torchvision-0.16.1-cp39-cp39-macosx_10_13_x86_64.whl.metadata (6.6 kB)\n",
      "Collecting torchaudio\n",
      "  Downloading torchaudio-2.1.1-cp39-cp39-macosx_10_13_x86_64.whl.metadata (6.4 kB)\n",
      "Requirement already satisfied: filelock in /Users/vrm6007/opt/anaconda3/lib/python3.9/site-packages (from torch) (3.6.0)\n",
      "Requirement already satisfied: typing-extensions in /Users/vrm6007/opt/anaconda3/lib/python3.9/site-packages (from torch) (4.1.1)\n",
      "Requirement already satisfied: sympy in /Users/vrm6007/opt/anaconda3/lib/python3.9/site-packages (from torch) (1.10.1)\n",
      "Requirement already satisfied: networkx in /Users/vrm6007/opt/anaconda3/lib/python3.9/site-packages (from torch) (2.7.1)\n",
      "Requirement already satisfied: jinja2 in /Users/vrm6007/opt/anaconda3/lib/python3.9/site-packages (from torch) (2.11.3)\n",
      "Requirement already satisfied: fsspec in /Users/vrm6007/opt/anaconda3/lib/python3.9/site-packages (from torch) (2022.2.0)\n",
      "Requirement already satisfied: numpy in /Users/vrm6007/opt/anaconda3/lib/python3.9/site-packages (from torchvision) (1.26.2)\n",
      "Requirement already satisfied: requests in /Users/vrm6007/opt/anaconda3/lib/python3.9/site-packages (from torchvision) (2.27.1)\n",
      "Requirement already satisfied: pillow!=8.3.*,>=5.3.0 in /Users/vrm6007/opt/anaconda3/lib/python3.9/site-packages (from torchvision) (9.0.1)\n",
      "Requirement already satisfied: MarkupSafe>=0.23 in /Users/vrm6007/opt/anaconda3/lib/python3.9/site-packages (from jinja2->torch) (2.0.1)\n",
      "Requirement already satisfied: urllib3<1.27,>=1.21.1 in /Users/vrm6007/opt/anaconda3/lib/python3.9/site-packages (from requests->torchvision) (1.26.9)\n",
      "Requirement already satisfied: certifi>=2017.4.17 in /Users/vrm6007/opt/anaconda3/lib/python3.9/site-packages (from requests->torchvision) (2022.12.7)\n",
      "Requirement already satisfied: charset-normalizer~=2.0.0 in /Users/vrm6007/opt/anaconda3/lib/python3.9/site-packages (from requests->torchvision) (2.0.4)\n",
      "Requirement already satisfied: idna<4,>=2.5 in /Users/vrm6007/opt/anaconda3/lib/python3.9/site-packages (from requests->torchvision) (3.3)\n",
      "Requirement already satisfied: mpmath>=0.19 in /Users/vrm6007/opt/anaconda3/lib/python3.9/site-packages (from sympy->torch) (1.2.1)\n",
      "Downloading torch-2.1.1-cp39-none-macosx_10_9_x86_64.whl (147.0 MB)\n",
      "\u001b[2K   \u001b[90m━━━━━━━━━━━━━━━━━━━━━━━━━━━━━━━━━━━━━━━━\u001b[0m \u001b[32m147.0/147.0 MB\u001b[0m \u001b[31m11.8 MB/s\u001b[0m eta \u001b[36m0:00:00\u001b[0m00:01\u001b[0m00:01\u001b[0m\n",
      "\u001b[?25hDownloading torchvision-0.16.1-cp39-cp39-macosx_10_13_x86_64.whl (1.6 MB)\n",
      "\u001b[2K   \u001b[90m━━━━━━━━━━━━━━━━━━━━━━━━━━━━━━━━━━━━━━━━\u001b[0m \u001b[32m1.6/1.6 MB\u001b[0m \u001b[31m13.2 MB/s\u001b[0m eta \u001b[36m0:00:00\u001b[0m00:01\u001b[0m00:01\u001b[0m\n",
      "\u001b[?25hDownloading torchaudio-2.1.1-cp39-cp39-macosx_10_13_x86_64.whl (3.3 MB)\n",
      "\u001b[2K   \u001b[90m━━━━━━━━━━━━━━━━━━━━━━━━━━━━━━━━━━━━━━━━\u001b[0m \u001b[32m3.3/3.3 MB\u001b[0m \u001b[31m11.5 MB/s\u001b[0m eta \u001b[36m0:00:00\u001b[0m00:01\u001b[0m00:01\u001b[0m\n",
      "\u001b[?25hInstalling collected packages: torch, torchvision, torchaudio\n",
      "Successfully installed torch-2.1.1 torchaudio-2.1.1 torchvision-0.16.1\n"
     ]
    }
   ],
   "source": [
    "!pip install torch torchvision torchaudio\n"
   ]
  },
  {
   "cell_type": "code",
   "execution_count": 71,
   "id": "21412845",
   "metadata": {},
   "outputs": [
    {
     "name": "stdout",
     "output_type": "stream",
     "text": [
      "Collecting pytorch-lightning\n",
      "  Downloading pytorch_lightning-2.1.2-py3-none-any.whl.metadata (21 kB)\n",
      "Requirement already satisfied: numpy>=1.17.2 in /Users/vrm6007/opt/anaconda3/lib/python3.9/site-packages (from pytorch-lightning) (1.26.2)\n",
      "Requirement already satisfied: torch>=1.12.0 in /Users/vrm6007/opt/anaconda3/lib/python3.9/site-packages (from pytorch-lightning) (2.1.1)\n",
      "Requirement already satisfied: tqdm>=4.57.0 in /Users/vrm6007/opt/anaconda3/lib/python3.9/site-packages (from pytorch-lightning) (4.64.0)\n",
      "Requirement already satisfied: PyYAML>=5.4 in /Users/vrm6007/opt/anaconda3/lib/python3.9/site-packages (from pytorch-lightning) (6.0)\n",
      "Requirement already satisfied: fsspec>2021.06.0 in /Users/vrm6007/opt/anaconda3/lib/python3.9/site-packages (from fsspec[http]>2021.06.0->pytorch-lightning) (2022.2.0)\n",
      "Collecting torchmetrics>=0.7.0 (from pytorch-lightning)\n",
      "  Downloading torchmetrics-1.2.1-py3-none-any.whl.metadata (20 kB)\n",
      "Requirement already satisfied: packaging>=20.0 in /Users/vrm6007/opt/anaconda3/lib/python3.9/site-packages (from pytorch-lightning) (21.3)\n",
      "Requirement already satisfied: typing-extensions>=4.0.0 in /Users/vrm6007/opt/anaconda3/lib/python3.9/site-packages (from pytorch-lightning) (4.1.1)\n",
      "Collecting lightning-utilities>=0.8.0 (from pytorch-lightning)\n",
      "  Downloading lightning_utilities-0.10.0-py3-none-any.whl.metadata (4.8 kB)\n",
      "Requirement already satisfied: requests in /Users/vrm6007/opt/anaconda3/lib/python3.9/site-packages (from fsspec[http]>2021.06.0->pytorch-lightning) (2.27.1)\n",
      "Requirement already satisfied: aiohttp in /Users/vrm6007/opt/anaconda3/lib/python3.9/site-packages (from fsspec[http]>2021.06.0->pytorch-lightning) (3.8.1)\n",
      "Requirement already satisfied: setuptools in /Users/vrm6007/opt/anaconda3/lib/python3.9/site-packages (from lightning-utilities>=0.8.0->pytorch-lightning) (61.2.0)\n",
      "Requirement already satisfied: pyparsing!=3.0.5,>=2.0.2 in /Users/vrm6007/opt/anaconda3/lib/python3.9/site-packages (from packaging>=20.0->pytorch-lightning) (3.0.4)\n",
      "Requirement already satisfied: filelock in /Users/vrm6007/opt/anaconda3/lib/python3.9/site-packages (from torch>=1.12.0->pytorch-lightning) (3.6.0)\n",
      "Requirement already satisfied: sympy in /Users/vrm6007/opt/anaconda3/lib/python3.9/site-packages (from torch>=1.12.0->pytorch-lightning) (1.10.1)\n",
      "Requirement already satisfied: networkx in /Users/vrm6007/opt/anaconda3/lib/python3.9/site-packages (from torch>=1.12.0->pytorch-lightning) (2.7.1)\n",
      "Requirement already satisfied: jinja2 in /Users/vrm6007/opt/anaconda3/lib/python3.9/site-packages (from torch>=1.12.0->pytorch-lightning) (2.11.3)\n",
      "Requirement already satisfied: attrs>=17.3.0 in /Users/vrm6007/opt/anaconda3/lib/python3.9/site-packages (from aiohttp->fsspec[http]>2021.06.0->pytorch-lightning) (21.4.0)\n",
      "Requirement already satisfied: charset-normalizer<3.0,>=2.0 in /Users/vrm6007/opt/anaconda3/lib/python3.9/site-packages (from aiohttp->fsspec[http]>2021.06.0->pytorch-lightning) (2.0.4)\n",
      "Requirement already satisfied: multidict<7.0,>=4.5 in /Users/vrm6007/opt/anaconda3/lib/python3.9/site-packages (from aiohttp->fsspec[http]>2021.06.0->pytorch-lightning) (5.2.0)\n",
      "Requirement already satisfied: async-timeout<5.0,>=4.0.0a3 in /Users/vrm6007/opt/anaconda3/lib/python3.9/site-packages (from aiohttp->fsspec[http]>2021.06.0->pytorch-lightning) (4.0.3)\n",
      "Requirement already satisfied: yarl<2.0,>=1.0 in /Users/vrm6007/opt/anaconda3/lib/python3.9/site-packages (from aiohttp->fsspec[http]>2021.06.0->pytorch-lightning) (1.6.3)\n",
      "Requirement already satisfied: frozenlist>=1.1.1 in /Users/vrm6007/opt/anaconda3/lib/python3.9/site-packages (from aiohttp->fsspec[http]>2021.06.0->pytorch-lightning) (1.2.0)\n",
      "Requirement already satisfied: aiosignal>=1.1.2 in /Users/vrm6007/opt/anaconda3/lib/python3.9/site-packages (from aiohttp->fsspec[http]>2021.06.0->pytorch-lightning) (1.2.0)\n",
      "Requirement already satisfied: MarkupSafe>=0.23 in /Users/vrm6007/opt/anaconda3/lib/python3.9/site-packages (from jinja2->torch>=1.12.0->pytorch-lightning) (2.0.1)\n",
      "Requirement already satisfied: urllib3<1.27,>=1.21.1 in /Users/vrm6007/opt/anaconda3/lib/python3.9/site-packages (from requests->fsspec[http]>2021.06.0->pytorch-lightning) (1.26.9)\n",
      "Requirement already satisfied: certifi>=2017.4.17 in /Users/vrm6007/opt/anaconda3/lib/python3.9/site-packages (from requests->fsspec[http]>2021.06.0->pytorch-lightning) (2022.12.7)\n",
      "Requirement already satisfied: idna<4,>=2.5 in /Users/vrm6007/opt/anaconda3/lib/python3.9/site-packages (from requests->fsspec[http]>2021.06.0->pytorch-lightning) (3.3)\n",
      "Requirement already satisfied: mpmath>=0.19 in /Users/vrm6007/opt/anaconda3/lib/python3.9/site-packages (from sympy->torch>=1.12.0->pytorch-lightning) (1.2.1)\n",
      "Downloading pytorch_lightning-2.1.2-py3-none-any.whl (776 kB)\n",
      "\u001b[2K   \u001b[90m━━━━━━━━━━━━━━━━━━━━━━━━━━━━━━━━━━━━━━━━\u001b[0m \u001b[32m776.9/776.9 kB\u001b[0m \u001b[31m7.5 MB/s\u001b[0m eta \u001b[36m0:00:00\u001b[0ma \u001b[36m0:00:01\u001b[0m\n",
      "\u001b[?25hDownloading lightning_utilities-0.10.0-py3-none-any.whl (24 kB)\n",
      "Downloading torchmetrics-1.2.1-py3-none-any.whl (806 kB)\n",
      "\u001b[2K   \u001b[90m━━━━━━━━━━━━━━━━━━━━━━━━━━━━━━━━━━━━━━━━\u001b[0m \u001b[32m806.1/806.1 kB\u001b[0m \u001b[31m11.5 MB/s\u001b[0m eta \u001b[36m0:00:00\u001b[0ma \u001b[36m0:00:01\u001b[0m\n",
      "\u001b[?25hInstalling collected packages: lightning-utilities, torchmetrics, pytorch-lightning\n",
      "Successfully installed lightning-utilities-0.10.0 pytorch-lightning-2.1.2 torchmetrics-1.2.1\n"
     ]
    }
   ],
   "source": [
    "!pip install pytorch-lightning"
   ]
  },
  {
   "cell_type": "code",
   "execution_count": 72,
   "id": "1c19839f",
   "metadata": {},
   "outputs": [],
   "source": [
    "\n",
    "\n",
    "import torch\n",
    "import torch.nn as nn\n",
    "from torch.utils.data import Dataset, DataLoader\n",
    "import pytorch_lightning as pl\n",
    "\n",
    "np.random.seed(123)"
   ]
  },
  {
   "cell_type": "code",
   "execution_count": 73,
   "id": "fe439c5b",
   "metadata": {},
   "outputs": [],
   "source": [
    "ratings = pd.read_csv('rating.csv', parse_dates=['timestamp'])"
   ]
  },
  {
   "cell_type": "code",
   "execution_count": 74,
   "id": "889eeb4e",
   "metadata": {},
   "outputs": [
    {
     "name": "stdout",
     "output_type": "stream",
     "text": [
      "There are 6027314 rows of data from 41547 users\n"
     ]
    }
   ],
   "source": [
    "rand_userIds = np.random.choice(ratings['userId'].unique(), \n",
    "                                size=int(len(ratings['userId'].unique())*0.3), \n",
    "                                replace=False)\n",
    "\n",
    "ratings = ratings.loc[ratings['userId'].isin(rand_userIds)]\n",
    "\n",
    "print('There are {} rows of data from {} users'.format(len(ratings), len(rand_userIds)))"
   ]
  },
  {
   "cell_type": "code",
   "execution_count": 75,
   "id": "c4dcce6a",
   "metadata": {},
   "outputs": [
    {
     "data": {
      "text/html": [
       "<div>\n",
       "<style scoped>\n",
       "    .dataframe tbody tr th:only-of-type {\n",
       "        vertical-align: middle;\n",
       "    }\n",
       "\n",
       "    .dataframe tbody tr th {\n",
       "        vertical-align: top;\n",
       "    }\n",
       "\n",
       "    .dataframe thead th {\n",
       "        text-align: right;\n",
       "    }\n",
       "</style>\n",
       "<table border=\"1\" class=\"dataframe\">\n",
       "  <thead>\n",
       "    <tr style=\"text-align: right;\">\n",
       "      <th></th>\n",
       "      <th>userId</th>\n",
       "      <th>movieId</th>\n",
       "      <th>rating</th>\n",
       "      <th>timestamp</th>\n",
       "    </tr>\n",
       "  </thead>\n",
       "  <tbody>\n",
       "    <tr>\n",
       "      <th>3840312</th>\n",
       "      <td>26182</td>\n",
       "      <td>3704</td>\n",
       "      <td>4.0</td>\n",
       "      <td>2007-01-31 21:56:52</td>\n",
       "    </tr>\n",
       "    <tr>\n",
       "      <th>7608731</th>\n",
       "      <td>52439</td>\n",
       "      <td>3365</td>\n",
       "      <td>4.0</td>\n",
       "      <td>2004-03-21 08:02:56</td>\n",
       "    </tr>\n",
       "    <tr>\n",
       "      <th>19363634</th>\n",
       "      <td>134060</td>\n",
       "      <td>1027</td>\n",
       "      <td>3.0</td>\n",
       "      <td>2003-07-15 22:43:45</td>\n",
       "    </tr>\n",
       "    <tr>\n",
       "      <th>17181947</th>\n",
       "      <td>118860</td>\n",
       "      <td>2629</td>\n",
       "      <td>1.0</td>\n",
       "      <td>2007-11-29 21:27:08</td>\n",
       "    </tr>\n",
       "    <tr>\n",
       "      <th>9344779</th>\n",
       "      <td>64638</td>\n",
       "      <td>4723</td>\n",
       "      <td>2.0</td>\n",
       "      <td>2001-09-10 20:11:41</td>\n",
       "    </tr>\n",
       "  </tbody>\n",
       "</table>\n",
       "</div>"
      ],
      "text/plain": [
       "          userId  movieId  rating           timestamp\n",
       "3840312    26182     3704     4.0 2007-01-31 21:56:52\n",
       "7608731    52439     3365     4.0 2004-03-21 08:02:56\n",
       "19363634  134060     1027     3.0 2003-07-15 22:43:45\n",
       "17181947  118860     2629     1.0 2007-11-29 21:27:08\n",
       "9344779    64638     4723     2.0 2001-09-10 20:11:41"
      ]
     },
     "execution_count": 75,
     "metadata": {},
     "output_type": "execute_result"
    }
   ],
   "source": [
    "ratings.sample(5)"
   ]
  },
  {
   "cell_type": "code",
   "execution_count": 76,
   "id": "c64cf28b",
   "metadata": {},
   "outputs": [],
   "source": [
    "ratings['rank_latest'] = ratings.groupby(['userId'])['timestamp'] \\\n",
    "                                .rank(method='first', ascending=False)\n",
    "\n",
    "train_ratings = ratings[ratings['rank_latest'] != 1]\n",
    "test_ratings = ratings[ratings['rank_latest'] == 1]\n",
    "\n",
    "# drop columns that we no longer need\n",
    "train_ratings = train_ratings[['userId', 'movieId', 'rating']]\n",
    "test_ratings = test_ratings[['userId', 'movieId', 'rating']]"
   ]
  },
  {
   "cell_type": "code",
   "execution_count": 77,
   "id": "0ef22263",
   "metadata": {},
   "outputs": [
    {
     "data": {
      "text/html": [
       "<div>\n",
       "<style scoped>\n",
       "    .dataframe tbody tr th:only-of-type {\n",
       "        vertical-align: middle;\n",
       "    }\n",
       "\n",
       "    .dataframe tbody tr th {\n",
       "        vertical-align: top;\n",
       "    }\n",
       "\n",
       "    .dataframe thead th {\n",
       "        text-align: right;\n",
       "    }\n",
       "</style>\n",
       "<table border=\"1\" class=\"dataframe\">\n",
       "  <thead>\n",
       "    <tr style=\"text-align: right;\">\n",
       "      <th></th>\n",
       "      <th>userId</th>\n",
       "      <th>movieId</th>\n",
       "      <th>rating</th>\n",
       "    </tr>\n",
       "  </thead>\n",
       "  <tbody>\n",
       "    <tr>\n",
       "      <th>3411906</th>\n",
       "      <td>23263</td>\n",
       "      <td>5481</td>\n",
       "      <td>1</td>\n",
       "    </tr>\n",
       "    <tr>\n",
       "      <th>1815983</th>\n",
       "      <td>12245</td>\n",
       "      <td>5464</td>\n",
       "      <td>1</td>\n",
       "    </tr>\n",
       "    <tr>\n",
       "      <th>16198592</th>\n",
       "      <td>112109</td>\n",
       "      <td>6</td>\n",
       "      <td>1</td>\n",
       "    </tr>\n",
       "    <tr>\n",
       "      <th>13914487</th>\n",
       "      <td>96124</td>\n",
       "      <td>1247</td>\n",
       "      <td>1</td>\n",
       "    </tr>\n",
       "    <tr>\n",
       "      <th>1445807</th>\n",
       "      <td>9790</td>\n",
       "      <td>1690</td>\n",
       "      <td>1</td>\n",
       "    </tr>\n",
       "  </tbody>\n",
       "</table>\n",
       "</div>"
      ],
      "text/plain": [
       "          userId  movieId  rating\n",
       "3411906    23263     5481       1\n",
       "1815983    12245     5464       1\n",
       "16198592  112109        6       1\n",
       "13914487   96124     1247       1\n",
       "1445807     9790     1690       1"
      ]
     },
     "execution_count": 77,
     "metadata": {},
     "output_type": "execute_result"
    }
   ],
   "source": [
    "train_ratings.loc[:, 'rating'] = 1\n",
    "\n",
    "train_ratings.sample(5)"
   ]
  },
  {
   "cell_type": "code",
   "execution_count": 78,
   "id": "7573220c",
   "metadata": {},
   "outputs": [
    {
     "data": {
      "application/vnd.jupyter.widget-view+json": {
       "model_id": "c4ba1203af614ffab4c887a1f2394594",
       "version_major": 2,
       "version_minor": 0
      },
      "text/plain": [
       "  0%|          | 0/5985767 [00:00<?, ?it/s]"
      ]
     },
     "metadata": {},
     "output_type": "display_data"
    }
   ],
   "source": [
    "# Get a list of all movie IDs\n",
    "all_movieIds = ratings['movieId'].unique()\n",
    "\n",
    "# Placeholders that will hold the training data\n",
    "users, items, labels = [], [], []\n",
    "\n",
    "# This is the set of items that each user has interaction with\n",
    "user_item_set = set(zip(train_ratings['userId'], train_ratings['movieId']))\n",
    "\n",
    "# 4:1 ratio of negative to positive samples\n",
    "num_negatives = 4\n",
    "\n",
    "for (u, i) in tqdm(user_item_set):\n",
    "    users.append(u)\n",
    "    items.append(i)\n",
    "    labels.append(1) # items that the user has interacted with are positive\n",
    "    for _ in range(num_negatives):\n",
    "        # randomly select an item\n",
    "        negative_item = np.random.choice(all_movieIds) \n",
    "        # check that the user has not interacted with this item\n",
    "        while (u, negative_item) in user_item_set:\n",
    "            negative_item = np.random.choice(all_movieIds)\n",
    "        users.append(u)\n",
    "        items.append(negative_item)\n",
    "        labels.append(0) # items not interacted with are negative"
   ]
  },
  {
   "cell_type": "code",
   "execution_count": 79,
   "id": "a9bd7da6",
   "metadata": {},
   "outputs": [],
   "source": [
    "class MovieLensTrainDataset(Dataset):\n",
    "    \"\"\"MovieLens PyTorch Dataset for Training\n",
    "    \n",
    "    Args:\n",
    "        ratings (pd.DataFrame): Dataframe containing the movie ratings\n",
    "        all_movieIds (list): List containing all movieIds\n",
    "    \n",
    "    \"\"\"\n",
    "\n",
    "    def __init__(self, ratings, all_movieIds):\n",
    "        self.users, self.items, self.labels = self.get_dataset(ratings, all_movieIds)\n",
    "\n",
    "    def __len__(self):\n",
    "        return len(self.users)\n",
    "  \n",
    "    def __getitem__(self, idx):\n",
    "        return self.users[idx], self.items[idx], self.labels[idx]\n",
    "\n",
    "    def get_dataset(self, ratings, all_movieIds):\n",
    "        users, items, labels = [], [], []\n",
    "        user_item_set = set(zip(ratings['userId'], ratings['movieId']))\n",
    "\n",
    "        num_negatives = 4\n",
    "        for u, i in user_item_set:\n",
    "            users.append(u)\n",
    "            items.append(i)\n",
    "            labels.append(1)\n",
    "            for _ in range(num_negatives):\n",
    "                negative_item = np.random.choice(all_movieIds)\n",
    "                while (u, negative_item) in user_item_set:\n",
    "                    negative_item = np.random.choice(all_movieIds)\n",
    "                users.append(u)\n",
    "                items.append(negative_item)\n",
    "                labels.append(0)\n",
    "\n",
    "        return torch.tensor(users), torch.tensor(items), torch.tensor(labels)"
   ]
  },
  {
   "cell_type": "code",
   "execution_count": 80,
   "id": "aea7521f",
   "metadata": {},
   "outputs": [],
   "source": [
    "class NCF(pl.LightningModule):\n",
    "    \"\"\" Neural Collaborative Filtering (NCF)\n",
    "    \n",
    "        Args:\n",
    "            num_users (int): Number of unique users\n",
    "            num_items (int): Number of unique items\n",
    "            ratings (pd.DataFrame): Dataframe containing the movie ratings for training\n",
    "            all_movieIds (list): List containing all movieIds (train + test)\n",
    "    \"\"\"\n",
    "    \n",
    "    def __init__(self, num_users, num_items, ratings, all_movieIds):\n",
    "        super().__init__()\n",
    "        self.user_embedding = nn.Embedding(num_embeddings=num_users, embedding_dim=8)\n",
    "        self.item_embedding = nn.Embedding(num_embeddings=num_items, embedding_dim=8)\n",
    "        self.fc1 = nn.Linear(in_features=16, out_features=64)\n",
    "        self.fc2 = nn.Linear(in_features=64, out_features=32)\n",
    "        self.output = nn.Linear(in_features=32, out_features=1)\n",
    "        self.ratings = ratings\n",
    "        self.all_movieIds = all_movieIds\n",
    "        \n",
    "    def forward(self, user_input, item_input):\n",
    "        \n",
    "        # Pass through embedding layers\n",
    "        user_embedded = self.user_embedding(user_input)\n",
    "        item_embedded = self.item_embedding(item_input)\n",
    "\n",
    "        # Concat the two embedding layers\n",
    "        vector = torch.cat([user_embedded, item_embedded], dim=-1)\n",
    "\n",
    "        # Pass through dense layer\n",
    "        vector = nn.ReLU()(self.fc1(vector))\n",
    "        vector = nn.ReLU()(self.fc2(vector))\n",
    "\n",
    "        # Output layer\n",
    "        pred = nn.Sigmoid()(self.output(vector))\n",
    "\n",
    "        return pred\n",
    "    \n",
    "    def training_step(self, batch, batch_idx):\n",
    "        user_input, item_input, labels = batch\n",
    "        predicted_labels = self(user_input, item_input)\n",
    "        loss = nn.BCELoss()(predicted_labels, labels.view(-1, 1).float())\n",
    "        return loss\n",
    "\n",
    "    def configure_optimizers(self):\n",
    "        return torch.optim.Adam(self.parameters())\n",
    "\n",
    "    def train_dataloader(self):\n",
    "        return DataLoader(MovieLensTrainDataset(self.ratings, self.all_movieIds),\n",
    "                          batch_size=512, num_workers=4)"
   ]
  },
  {
   "cell_type": "code",
   "execution_count": 81,
   "id": "d1b4842c",
   "metadata": {},
   "outputs": [],
   "source": [
    "num_users = ratings['userId'].max()+1\n",
    "num_items = ratings['movieId'].max()+1\n",
    "\n",
    "all_movieIds = ratings['movieId'].unique()\n",
    "\n",
    "model = NCF(num_users, num_items, train_ratings, all_movieIds)"
   ]
  },
  {
   "cell_type": "code",
   "execution_count": 88,
   "id": "2fac5abc",
   "metadata": {},
   "outputs": [
    {
     "name": "stdout",
     "output_type": "stream",
     "text": [
      "3.9.12 (main, Apr  5 2022, 01:53:17) \n",
      "[Clang 12.0.0 ]\n"
     ]
    }
   ],
   "source": [
    "import sys\n",
    "print(sys.version)"
   ]
  },
  {
   "cell_type": "code",
   "execution_count": 1,
   "id": "0d5fb2d9",
   "metadata": {},
   "outputs": [
    {
     "ename": "NameError",
     "evalue": "name 'pl' is not defined",
     "output_type": "error",
     "traceback": [
      "\u001b[0;31m---------------------------------------------------------------------------\u001b[0m",
      "\u001b[0;31mNameError\u001b[0m                                 Traceback (most recent call last)",
      "Input \u001b[0;32mIn [1]\u001b[0m, in \u001b[0;36m<cell line: 1>\u001b[0;34m()\u001b[0m\n\u001b[0;32m----> 1\u001b[0m trainer \u001b[38;5;241m=\u001b[39m \u001b[43mpl\u001b[49m\u001b[38;5;241m.\u001b[39mTrainer(max_epochs\u001b[38;5;241m=\u001b[39m\u001b[38;5;241m5\u001b[39m, progress_bar_refresh_rate\u001b[38;5;241m=\u001b[39m\u001b[38;5;241m50\u001b[39m, logger\u001b[38;5;241m=\u001b[39m\u001b[38;5;28;01mFalse\u001b[39;00m, checkpoint_callback\u001b[38;5;241m=\u001b[39m\u001b[38;5;28;01mFalse\u001b[39;00m)\n\u001b[1;32m      3\u001b[0m trainer\u001b[38;5;241m.\u001b[39mfit(model)\n",
      "\u001b[0;31mNameError\u001b[0m: name 'pl' is not defined"
     ]
    }
   ],
   "source": [
    "trainer = pl.Trainer(max_epochs=5, progress_bar_refresh_rate=50, logger=False, checkpoint_callback=False)\n",
    "\n",
    "trainer.fit(model)\n"
   ]
  },
  {
   "cell_type": "code",
   "execution_count": null,
   "id": "e558d9cf",
   "metadata": {},
   "outputs": [],
   "source": [
    "# User-item pairs for testing\n",
    "test_user_item_set = set(zip(test_ratings['userId'], test_ratings['movieId']))\n",
    "\n",
    "# Dict of all items that are interacted with by each user\n",
    "user_interacted_items = ratings.groupby('userId')['movieId'].apply(list).to_dict()\n",
    "\n",
    "hits = []\n",
    "for (u,i) in tqdm(test_user_item_set):\n",
    "    interacted_items = user_interacted_items[u]\n",
    "    not_interacted_items = set(all_movieIds) - set(interacted_items)\n",
    "    selected_not_interacted = list(np.random.choice(list(not_interacted_items), 99))\n",
    "    test_items = selected_not_interacted + [i]\n",
    "    \n",
    "    predicted_labels = np.squeeze(model(torch.tensor([u]*100), \n",
    "                                        torch.tensor(test_items)).detach().numpy())\n",
    "    \n",
    "    top10_items = [test_items[i] for i in np.argsort(predicted_labels)[::-1][0:10].tolist()]\n",
    "    \n",
    "    if i in top10_items:\n",
    "        hits.append(1)\n",
    "    else:\n",
    "        hits.append(0)\n",
    "        \n",
    "print(\"The Hit Ratio @ 10 is {:.2f}\".format(np.average(hits)))"
   ]
  },
  {
   "cell_type": "code",
   "execution_count": null,
   "id": "694e9286",
   "metadata": {},
   "outputs": [],
   "source": []
  },
  {
   "cell_type": "code",
   "execution_count": null,
   "id": "26d33798",
   "metadata": {},
   "outputs": [],
   "source": []
  },
  {
   "cell_type": "code",
   "execution_count": null,
   "id": "31507943",
   "metadata": {},
   "outputs": [],
   "source": []
  },
  {
   "cell_type": "code",
   "execution_count": null,
   "id": "3d6bab69",
   "metadata": {},
   "outputs": [],
   "source": []
  }
 ],
 "metadata": {
  "kernelspec": {
   "display_name": "Python 3 (ipykernel)",
   "language": "python",
   "name": "python3"
  },
  "language_info": {
   "codemirror_mode": {
    "name": "ipython",
    "version": 3
   },
   "file_extension": ".py",
   "mimetype": "text/x-python",
   "name": "python",
   "nbconvert_exporter": "python",
   "pygments_lexer": "ipython3",
   "version": "3.9.12"
  }
 },
 "nbformat": 4,
 "nbformat_minor": 5
}
